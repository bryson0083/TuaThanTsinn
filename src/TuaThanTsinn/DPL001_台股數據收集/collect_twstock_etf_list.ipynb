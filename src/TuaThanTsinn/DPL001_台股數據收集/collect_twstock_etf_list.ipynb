{
 "cells": [
  {
   "cell_type": "code",
   "execution_count": 1,
   "id": "dfb03b59",
   "metadata": {
    "execution": {
     "iopub.execute_input": "2025-05-27T08:54:10.111496Z",
     "iopub.status.busy": "2025-05-27T08:54:10.109494Z",
     "iopub.status.idle": "2025-05-27T08:54:12.155509Z",
     "shell.execute_reply": "2025-05-27T08:54:12.154489Z"
    }
   },
   "outputs": [],
   "source": [
    "import os\n",
    "import sys\n",
    "from pathlib import Path\n",
    "from datetime import date\n",
    "from datetime import datetime\n",
    "import requests\n",
    "import pandas as pd\n",
    "import duckdb"
   ]
  },
  {
   "cell_type": "code",
   "execution_count": 2,
   "id": "079c6f24",
   "metadata": {
    "execution": {
     "iopub.execute_input": "2025-05-27T08:54:12.161512Z",
     "iopub.status.busy": "2025-05-27T08:54:12.160794Z",
     "iopub.status.idle": "2025-05-27T08:54:12.438482Z",
     "shell.execute_reply": "2025-05-27T08:54:12.438482Z"
    }
   },
   "outputs": [],
   "source": [
    "from finlab import data\n",
    "import finlab"
   ]
  },
  {
   "cell_type": "code",
   "execution_count": null,
   "id": "4c7020bc",
   "metadata": {
    "execution": {
     "iopub.execute_input": "2025-05-27T08:54:12.444483Z",
     "iopub.status.busy": "2025-05-27T08:54:12.443482Z",
     "iopub.status.idle": "2025-05-27T08:54:12.464238Z",
     "shell.execute_reply": "2025-05-27T08:54:12.464238Z"
    }
   },
   "outputs": [],
   "source": [
    "# 引用自建公用模組\n",
    "sys.path.insert(0, str(Path.cwd().parent))\n",
    "from proj_util_pkg.settings import ProjEnvSettings\n",
    "\n",
    "from proj_util_pkg.finlab_api import finlab_manager as flm"
   ]
  },
  {
   "cell_type": "markdown",
   "id": "3a68266b",
   "metadata": {},
   "source": [
    "## 公用參數設定"
   ]
  },
  {
   "cell_type": "code",
   "execution_count": null,
   "id": "58b248d9",
   "metadata": {
    "execution": {
     "iopub.execute_input": "2025-05-27T08:54:12.467245Z",
     "iopub.status.busy": "2025-05-27T08:54:12.467245Z",
     "iopub.status.idle": "2025-05-27T08:54:12.474249Z",
     "shell.execute_reply": "2025-05-27T08:54:12.473236Z"
    }
   },
   "outputs": [],
   "source": [
    "# finlab api 服務初始化\n",
    "finlab = flm.FinlabManager()\n",
    "data.force_cloud_download = False"
   ]
  },
  {
   "cell_type": "code",
   "execution_count": 5,
   "id": "3a035784",
   "metadata": {
    "execution": {
     "iopub.execute_input": "2025-05-27T08:54:12.475811Z",
     "iopub.status.busy": "2025-05-27T08:54:12.475811Z",
     "iopub.status.idle": "2025-05-27T08:54:12.482296Z",
     "shell.execute_reply": "2025-05-27T08:54:12.482296Z"
    }
   },
   "outputs": [],
   "source": [
    "# 欄數全展開\n",
    "pd.set_option(\"display.max_columns\", None)"
   ]
  },
  {
   "cell_type": "code",
   "execution_count": 6,
   "id": "f23e16e5",
   "metadata": {
    "execution": {
     "iopub.execute_input": "2025-05-27T08:54:12.485306Z",
     "iopub.status.busy": "2025-05-27T08:54:12.484307Z",
     "iopub.status.idle": "2025-05-27T08:54:12.487856Z",
     "shell.execute_reply": "2025-05-27T08:54:12.487856Z"
    }
   },
   "outputs": [],
   "source": [
    "# 新增偽裝成chrome瀏覽器的標頭\n",
    "headers = {\n",
    "    'User-Agent': 'Mozilla/5.0 (Windows NT 10.0; Win64; x64) AppleWebKit/537.36 (KHTML, like Gecko) Chrome/58.0.3029.110 Safari/537.3'\n",
    "}"
   ]
  },
  {
   "cell_type": "markdown",
   "id": "64bb1c50",
   "metadata": {},
   "source": [
    "## 外部資料讀取  \n",
    "### 證交所ETF資料讀取  "
   ]
  },
  {
   "cell_type": "code",
   "execution_count": null,
   "id": "b94011f6",
   "metadata": {
    "execution": {
     "iopub.execute_input": "2025-05-27T08:54:12.491878Z",
     "iopub.status.busy": "2025-05-27T08:54:12.490885Z",
     "iopub.status.idle": "2025-05-27T08:54:15.332353Z",
     "shell.execute_reply": "2025-05-27T08:54:15.332353Z"
    }
   },
   "outputs": [],
   "source": [
    "# 取得ETF資料\n",
    "tw_etf_info = requests.get(\n",
    "    \"https://openapi.twse.com.tw/v1/opendata/t187ap47_L\", \n",
    "    verify=False,\n",
    "    headers=headers\n",
    ").json()\n",
    "print(tw_etf_info)"
   ]
  },
  {
   "cell_type": "code",
   "execution_count": null,
   "id": "5fbaa117",
   "metadata": {
    "execution": {
     "iopub.execute_input": "2025-05-27T08:54:15.336360Z",
     "iopub.status.busy": "2025-05-27T08:54:15.336360Z",
     "iopub.status.idle": "2025-05-27T08:54:15.360512Z",
     "shell.execute_reply": "2025-05-27T08:54:15.359504Z"
    }
   },
   "outputs": [],
   "source": [
    "# json 轉成 dataframe\n",
    "tw_etf_info_df = pd.DataFrame(tw_etf_info)\n",
    "print(tw_etf_info_df.shape)\n",
    "# tw_etf_info_df.columns\n",
    "\n",
    "tw_etf_info_df = tw_etf_info_df[[\"基金代號\", \"基金名稱\", \"英文名稱\", \"標的指數|追蹤指數名稱\", \"基金類型\"]]\n",
    "tw_etf_info_df[\"category\"] = \"ETF\"\n",
    "tw_etf_info_df.columns = [\"stock_id\", \"stock_name\", \"stock_en_name\", \"etf_index_name\", \"etf_type\", \"industry\"]\n",
    "tw_etf_info_df"
   ]
  },
  {
   "cell_type": "code",
   "execution_count": null,
   "id": "6c32c847",
   "metadata": {
    "execution": {
     "iopub.execute_input": "2025-05-27T08:54:15.363510Z",
     "iopub.status.busy": "2025-05-27T08:54:15.363510Z",
     "iopub.status.idle": "2025-05-27T08:54:15.367929Z",
     "shell.execute_reply": "2025-05-27T08:54:15.367929Z"
    }
   },
   "outputs": [],
   "source": [
    "list(tw_etf_info_df.columns)"
   ]
  },
  {
   "cell_type": "markdown",
   "id": "ecda996b",
   "metadata": {},
   "source": [
    "### 讀取台股企業資訊"
   ]
  },
  {
   "cell_type": "code",
   "execution_count": null,
   "id": "e35a18bf",
   "metadata": {
    "execution": {
     "iopub.execute_input": "2025-05-27T08:54:16.331959Z",
     "iopub.status.busy": "2025-05-27T08:54:16.331959Z",
     "iopub.status.idle": "2025-05-27T08:54:17.400657Z",
     "shell.execute_reply": "2025-05-27T08:54:17.400657Z"
    }
   },
   "outputs": [],
   "source": [
    "tw_stock_info = data.get('company_basic_info', save_to_storage=True)\n",
    "\n",
    "print(tw_stock_info.shape)\n",
    "# tw_stock_info.head(3)"
   ]
  },
  {
   "cell_type": "code",
   "execution_count": null,
   "id": "ae2e55b5",
   "metadata": {
    "execution": {
     "iopub.execute_input": "2025-05-27T08:54:17.400657Z",
     "iopub.status.busy": "2025-05-27T08:54:17.400657Z",
     "iopub.status.idle": "2025-05-27T08:54:17.409903Z",
     "shell.execute_reply": "2025-05-27T08:54:17.408150Z"
    }
   },
   "outputs": [],
   "source": [
    "tw_stock_info.columns"
   ]
  },
  {
   "cell_type": "code",
   "execution_count": null,
   "id": "de8bddcd",
   "metadata": {
    "execution": {
     "iopub.execute_input": "2025-05-27T08:54:17.410911Z",
     "iopub.status.busy": "2025-05-27T08:54:17.410911Z",
     "iopub.status.idle": "2025-05-27T08:54:17.419242Z",
     "shell.execute_reply": "2025-05-27T08:54:17.419242Z"
    }
   },
   "outputs": [],
   "source": [
    "tw_stock_info = tw_stock_info[[\"stock_id\", \"公司簡稱\", \"英文簡稱\", \"產業類別\"]]\n",
    "tw_stock_info.columns = [\"stock_id\", \"stock_name\", \"stock_en_name\", \"industry\"]\n",
    "tw_stock_info"
   ]
  },
  {
   "cell_type": "code",
   "execution_count": null,
   "id": "abbfca92",
   "metadata": {
    "execution": {
     "iopub.execute_input": "2025-05-27T08:54:17.419242Z",
     "iopub.status.busy": "2025-05-27T08:54:17.419242Z",
     "iopub.status.idle": "2025-05-27T08:54:17.429500Z",
     "shell.execute_reply": "2025-05-27T08:54:17.429500Z"
    }
   },
   "outputs": [],
   "source": [
    "tw_stock_info.columns"
   ]
  },
  {
   "cell_type": "code",
   "execution_count": null,
   "id": "51622567",
   "metadata": {
    "execution": {
     "iopub.execute_input": "2025-05-27T08:54:17.429500Z",
     "iopub.status.busy": "2025-05-27T08:54:17.429500Z",
     "iopub.status.idle": "2025-05-27T08:54:17.437731Z",
     "shell.execute_reply": "2025-05-27T08:54:17.437731Z"
    }
   },
   "outputs": [],
   "source": [
    "tw_etf_info_df.columns"
   ]
  },
  {
   "cell_type": "markdown",
   "id": "25285e17",
   "metadata": {
    "execution": {
     "iopub.execute_input": "2025-05-27T08:54:17.442838Z",
     "iopub.status.busy": "2025-05-27T08:54:17.441830Z",
     "iopub.status.idle": "2025-05-27T08:54:17.446571Z",
     "shell.execute_reply": "2025-05-27T08:54:17.446571Z"
    }
   },
   "source": [
    "## 合併股票和 ETF 資料"
   ]
  },
  {
   "cell_type": "code",
   "execution_count": null,
   "id": "1392375b",
   "metadata": {
    "execution": {
     "iopub.execute_input": "2025-05-27T08:54:17.886009Z",
     "iopub.status.busy": "2025-05-27T08:54:17.886009Z",
     "iopub.status.idle": "2025-05-27T08:54:17.908914Z",
     "shell.execute_reply": "2025-05-27T08:54:17.906906Z"
    }
   },
   "outputs": [],
   "source": [
    "conn = duckdb.connect(':memory:')\n",
    "\n",
    "# 直接使用 DuckDB 的 SQL 功能進行合併\n",
    "combined_df = conn.execute(\"\"\"\n",
    "    SELECT \n",
    "        stock_id, \n",
    "        stock_name, \n",
    "        stock_en_name, \n",
    "        industry,\n",
    "        '' as etf_index_name,\n",
    "        '' as etf_type\n",
    "    FROM tw_stock_info\n",
    "    UNION ALL\n",
    "    SELECT \n",
    "        stock_id, \n",
    "        stock_name, \n",
    "        stock_en_name, \n",
    "        industry,\n",
    "        etf_index_name,\n",
    "        etf_type\n",
    "    FROM tw_etf_info_df\n",
    "\"\"\").fetchdf()\n",
    "\n",
    "print(f\"合併完成！總共 {len(combined_df)} 筆資料\")\n",
    "print(f\"股票資料: {len(combined_df[combined_df['etf_index_name'] == ''])} 筆\")\n",
    "print(f\"ETF資料: {len(combined_df[combined_df['etf_index_name'] != ''])} 筆\")\n",
    "combined_df.head()"
   ]
  },
  {
   "cell_type": "markdown",
   "id": "d9bdf22d",
   "metadata": {},
   "source": [
    "## 資料留存ＤＢ"
   ]
  },
  {
   "cell_type": "code",
   "execution_count": 16,
   "id": "6c282a5b",
   "metadata": {},
   "outputs": [],
   "source": [
    "# 設定資料庫路徑\n",
    "TWSTOCK_DATA_ROOT = os.environ.get(\"hist_data_path\")\n",
    "twstock_db_path = f\"{TWSTOCK_DATA_ROOT}/twstock.duckdb\""
   ]
  },
  {
   "cell_type": "code",
   "execution_count": 17,
   "id": "5411e1cc",
   "metadata": {},
   "outputs": [],
   "source": [
    "# 連線資料庫\n",
    "conn_duckdb = duckdb.connect(twstock_db_path)"
   ]
  },
  {
   "cell_type": "code",
   "execution_count": 18,
   "id": "7efe8f92",
   "metadata": {},
   "outputs": [],
   "source": [
    "table_name = \"tw_stock_list\""
   ]
  },
  {
   "cell_type": "code",
   "execution_count": null,
   "id": "84e2c108",
   "metadata": {},
   "outputs": [],
   "source": [
    "# 由於股票清單是完整資料，先刪除現有表格再重新建立\n",
    "try:\n",
    "    conn_duckdb.execute(f\"DROP TABLE IF EXISTS {table_name}\")\n",
    "    print(f\"已刪除現有表格: {table_name}\")\n",
    "except Exception as e:\n",
    "    print(f\"刪除表格時發生錯誤: {e}\")\n",
    "\n",
    "# 將合併後的資料存入資料庫\n",
    "combined_df.to_sql(table_name, conn_duckdb, if_exists=\"replace\", index=False)\n",
    "print(f\"已將 {len(combined_df)} 筆資料存入資料庫表格: {table_name}\")"
   ]
  },
  {
   "cell_type": "code",
   "execution_count": null,
   "id": "4a79d13e",
   "metadata": {},
   "outputs": [],
   "source": [
    "# 查詢表中資料來驗證\n",
    "result_df = conn_duckdb.execute(f\"\"\"\n",
    "    SELECT \n",
    "        COUNT(*) as total_count,\n",
    "        SUM(CASE WHEN etf_index_name = '' THEN 1 ELSE 0 END) as stock_count,\n",
    "        SUM(CASE WHEN etf_index_name != '' THEN 1 ELSE 0 END) as etf_count\n",
    "    FROM {table_name}\n",
    "\"\"\").fetch_df()\n",
    "\n",
    "print(\"資料庫中的資料統計:\")\n",
    "print(result_df)\n",
    "\n",
    "print(\"\\n前5筆資料:\")\n",
    "sample_df = conn_duckdb.execute(f\"SELECT * FROM {table_name} LIMIT 5\").fetch_df()\n",
    "print(sample_df)"
   ]
  },
  {
   "cell_type": "code",
   "execution_count": null,
   "id": "f48c961b",
   "metadata": {},
   "outputs": [],
   "source": [
    "# 關閉資料庫連線\n",
    "conn_duckdb.close()\n",
    "print(\"資料庫連線已關閉\")"
   ]
  },
  {
   "cell_type": "code",
   "execution_count": null,
   "id": "6c261a37",
   "metadata": {},
   "outputs": [],
   "source": []
  }
 ],
 "metadata": {
  "kernelspec": {
   "display_name": ".venv",
   "language": "python",
   "name": "python3"
  },
  "language_info": {
   "codemirror_mode": {
    "name": "ipython",
    "version": 3
   },
   "file_extension": ".py",
   "mimetype": "text/x-python",
   "name": "python",
   "nbconvert_exporter": "python",
   "pygments_lexer": "ipython3",
   "version": "3.12.11"
  }
 },
 "nbformat": 4,
 "nbformat_minor": 5
}
