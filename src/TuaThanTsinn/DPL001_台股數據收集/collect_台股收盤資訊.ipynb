{
 "cells": [
  {
   "cell_type": "markdown",
   "metadata": {},
   "source": [
    "# DPL001-02 台股收盤資訊收集  \n",
    "* 台股每日收盤資訊收集"
   ]
  },
  {
   "cell_type": "code",
   "execution_count": 1,
   "metadata": {},
   "outputs": [],
   "source": [
    "import os\n",
    "import sys\n",
    "from pathlib import Path\n",
    "import pandas as pd\n",
    "import requests\n",
    "import duckdb"
   ]
  },
  {
   "cell_type": "code",
   "execution_count": 2,
   "metadata": {},
   "outputs": [],
   "source": [
    "from finlab import data"
   ]
  },
  {
   "cell_type": "code",
   "execution_count": null,
   "metadata": {},
   "outputs": [],
   "source": [
    "# 引用自建公用模組\n",
    "sys.path.insert(0, str(Path.cwd().parent))\n",
    "from proj_util_pkg.settings import ProjEnvSettings\n",
    "\n",
    "from proj_util_pkg.finlab_api import finlab_manager as flm\n",
    "from proj_util_pkg.common.duckdb_tool import insert_dataframe_to_duckdb"
   ]
  },
  {
   "cell_type": "markdown",
   "metadata": {},
   "source": [
    "## 公用參數設定"
   ]
  },
  {
   "cell_type": "code",
   "execution_count": 4,
   "metadata": {},
   "outputs": [],
   "source": [
    "# 欄數全展開\n",
    "pd.set_option(\"display.max_columns\", None)"
   ]
  },
  {
   "cell_type": "code",
   "execution_count": null,
   "metadata": {},
   "outputs": [],
   "source": [
    "# finlab api 服務初始化\n",
    "finlab = flm.FinlabManager()\n",
    "data.force_cloud_download = False"
   ]
  },
  {
   "cell_type": "markdown",
   "metadata": {},
   "source": [
    "## Function Block  \n"
   ]
  },
  {
   "cell_type": "code",
   "execution_count": 6,
   "metadata": {},
   "outputs": [],
   "source": [
    "def combine_stock_dataframes_with_price_change(\n",
    "        close, open, high, low, vol, pe_ratio, pb_ratio, dividend_yield, \n",
    "        recent_days_count=30, force_full_rebuild=False\n",
    "    ):\n",
    "    \"\"\"\n",
    "    將多個股票數據DataFrame合併為統一格式，並添加漲跌幅計算\n",
    "    \n",
    "    Parameters:\n",
    "    所有數據參數都是 FinlabDataFrame，格式為: index=date, columns=symbol(股票代碼)\n",
    "    recent_days_count (int): 要處理的最新N個交易日天數，預設30天（當force_full_rebuild=False時使用）\n",
    "    force_full_rebuild (bool): 是否處理所有歷史資料，預設為False（僅處理最新資料以加快速度）\n",
    "    \n",
    "    Returns:\n",
    "    DataFrame: 合併後的DataFrame，包含以下欄位:\n",
    "    ['date', 'symbol', 'open', 'high', 'low', 'close', 'vol', 'pe_ratio', 'pb_ratio', 'dividend_yield', 'price_change']\n",
    "    \"\"\"\n",
    "    \n",
    "    def melt_df(df, value_name):\n",
    "        \"\"\"內部函數：將寬格式轉換為長格式\"\"\"\n",
    "        df_reset = df.reset_index()\n",
    "        df_melted = pd.melt(df_reset, id_vars=['date'], var_name='symbol', value_name=value_name)\n",
    "        # 將 NaN 值補零\n",
    "        df_melted[value_name] = df_melted[value_name].fillna(0)\n",
    "        return df_melted\n",
    "    \n",
    "    def get_recent_data(df, days_count):\n",
    "        \"\"\"取得最新N個交易日的資料\"\"\"\n",
    "        if df.empty:\n",
    "            return df\n",
    "        # 獲取最新的N個交易日\n",
    "        recent_dates = df.index.sort_values(ascending=False)[:days_count]\n",
    "        return df.loc[recent_dates]\n",
    "    \n",
    "    def calculate_price_change(df):\n",
    "        \"\"\"計算漲跌幅百分比\"\"\"\n",
    "        # 先確保數據按symbol和date排序\n",
    "        df_sorted = df.sort_values(['symbol', 'date']).copy()\n",
    "        \n",
    "        # 計算每個股票的前一日收盤價\n",
    "        df_sorted['prev_close'] = df_sorted.groupby('symbol')['close'].shift(1)\n",
    "        \n",
    "        # 計算漲跌幅百分比 (今日收盤價 - 昨日收盤價) / 昨日收盤價 * 100\n",
    "        df_sorted['price_change'] = (\n",
    "            (df_sorted['close'] - df_sorted['prev_close']) / df_sorted['prev_close'] * 100\n",
    "        ).round(2)\n",
    "        \n",
    "        # 移除輔助欄位\n",
    "        df_sorted = df_sorted.drop('prev_close', axis=1)\n",
    "        \n",
    "        # 將第一個交易日的price_change設為0（沒有前一日資料）\n",
    "        df_sorted['price_change'] = df_sorted['price_change'].fillna(0)\n",
    "        \n",
    "        return df_sorted\n",
    "    \n",
    "    # 準備所有要合併的DataFrame\n",
    "    dataframes_to_process = {\n",
    "        'close': close,\n",
    "        'open': open,\n",
    "        'high': high, \n",
    "        'low': low,\n",
    "        'vol': vol,\n",
    "        'pe_ratio': pe_ratio,\n",
    "        'pb_ratio': pb_ratio,\n",
    "        'dividend_yield': dividend_yield\n",
    "    }\n",
    "    \n",
    "    # 根據設定決定處理範圍：僅處理最新資料 或 處理所有歷史資料\n",
    "    if force_full_rebuild:\n",
    "        print(\"處理所有歷史資料（force_full_rebuild=True）\")\n",
    "    else:\n",
    "        print(f\"僅處理最新 {recent_days_count} 個交易日的資料（預設模式，加快處理速度）\")\n",
    "        for name, df in dataframes_to_process.items():\n",
    "            dataframes_to_process[name] = get_recent_data(df, recent_days_count)\n",
    "    \n",
    "    # 轉換所有DataFrame為長格式\n",
    "    melted_dfs = {}\n",
    "    for name, df in dataframes_to_process.items():\n",
    "        melted_dfs[name] = melt_df(df, name)\n",
    "        print(f\"  {name}: {melted_dfs[name].shape[0]} 筆資料\")\n",
    "    \n",
    "    # 從close開始合併\n",
    "    result_df = melted_dfs['close'].copy()\n",
    "    \n",
    "    # 合併其他欄位\n",
    "    merge_order = ['open', 'high', 'low', 'vol', 'pe_ratio', 'pb_ratio', 'dividend_yield']\n",
    "    for column_name in merge_order:\n",
    "        result_df = pd.merge(\n",
    "            result_df, \n",
    "            melted_dfs[column_name], \n",
    "            on=['date', 'symbol'], \n",
    "            how='outer'\n",
    "        )\n",
    "    \n",
    "    # 計算漲跌幅百分比\n",
    "    print(\"正在計算漲跌幅百分比...\")\n",
    "    result_df = calculate_price_change(result_df)\n",
    "    \n",
    "    # 重新排列欄位順序\n",
    "    desired_columns = ['date', 'symbol', 'open', 'high', 'low', 'close', 'vol', 'pe_ratio', 'pb_ratio', 'dividend_yield', 'price_change']\n",
    "    result_df = result_df[desired_columns]\n",
    "    \n",
    "    print(f\"合併完成，最終資料形狀: {result_df.shape}\")\n",
    "    \n",
    "    return result_df\n"
   ]
  },
  {
   "cell_type": "markdown",
   "metadata": {},
   "source": [
    "## 外部資料讀取  "
   ]
  },
  {
   "cell_type": "code",
   "execution_count": 7,
   "metadata": {},
   "outputs": [],
   "source": [
    "# 讀取台股收盤價資訊\n",
    "close = data.get(\"price:收盤價\", save_to_storage=True)\n",
    "open = data.get(\"price:開盤價\", save_to_storage=True)\n",
    "high = data.get(\"price:最高價\", save_to_storage=True)\n",
    "low = data.get(\"price:最低價\", save_to_storage=True)\n",
    "vol = data.get(\"price:成交股數\", save_to_storage=True)\n",
    "pe_ratio = data.get('price_earning_ratio:本益比', save_to_storage=True)\n",
    "pb_ratio = data.get('price_earning_ratio:股價淨值比', save_to_storage=True)\n",
    "dividend_yield = data.get('price_earning_ratio:殖利率(%)', save_to_storage=True)"
   ]
  },
  {
   "cell_type": "markdown",
   "metadata": {},
   "source": [
    "### 🔧 使用方法\n",
    "\n",
    "```python\n",
    "# 1. 快速模式（預設，最新30天）\n",
    "data = combine_stock_dataframes(close, open, high, low, vol, pe_ratio, pb_ratio, dividend_yield)\n",
    "\n",
    "# 2. 自訂天數\n",
    "data = combine_stock_dataframes(close, open, high, low, vol, pe_ratio, pb_ratio, dividend_yield, \n",
    "                               recent_days_count=60)\n",
    "\n",
    "# 3. 強制重新合併所有資料\n",
    "data = combine_stock_dataframes(close, open, high, low, vol, pe_ratio, pb_ratio, dividend_yield, \n",
    "                               force_full_rebuild=True)\n",
    "```"
   ]
  },
  {
   "cell_type": "code",
   "execution_count": null,
   "metadata": {},
   "outputs": [],
   "source": [
    "# 使用新的函數重新生成合併數據（預設使用最新30天資料）\n",
    "print(\"=== 使用包含漲跌幅計算的函數合併數據（預設最新30天） ===\")\n",
    "final_stock_data = combine_stock_dataframes_with_price_change(\n",
    "    close, open, high, low, vol, pe_ratio, pb_ratio, dividend_yield\n",
    "    # , force_full_rebuild=True\n",
    ")\n",
    "\n",
    "# 將 date 欄位重新命名為 Date\n",
    "final_stock_data = final_stock_data.rename(columns={'date': 'Date'})\n",
    "\n",
    "print(f\"函數生成的DataFrame shape: {final_stock_data.shape}\")\n",
    "print(\"前5筆資料:\")\n",
    "print(final_stock_data.tail())"
   ]
  },
  {
   "cell_type": "markdown",
   "metadata": {},
   "source": [
    "## 資料留存ＤＢ"
   ]
  },
  {
   "cell_type": "code",
   "execution_count": 9,
   "metadata": {},
   "outputs": [],
   "source": [
    "# 設定資料庫路徑\n",
    "TWSTOCK_DATA_ROOT = os.environ.get(\"hist_data_path\")\n",
    "twstock_db_path = f\"{TWSTOCK_DATA_ROOT}/twstock.duckdb\""
   ]
  },
  {
   "cell_type": "code",
   "execution_count": 10,
   "metadata": {},
   "outputs": [],
   "source": [
    "# 連線資料庫\n",
    "conn_duckdb = duckdb.connect(twstock_db_path)"
   ]
  },
  {
   "cell_type": "code",
   "execution_count": 11,
   "metadata": {},
   "outputs": [],
   "source": [
    "table_name = \"tw_stock_daily_txn\""
   ]
  },
  {
   "cell_type": "code",
   "execution_count": null,
   "metadata": {},
   "outputs": [],
   "source": [
    "insert_row_count = insert_dataframe_to_duckdb(\n",
    "    conn_duckdb, \n",
    "    final_stock_data, \n",
    "    table_name, \n",
    "    date_column='Date'\n",
    ")\n",
    "\n",
    "f\"成功插入 {insert_row_count} 筆資料到 {table_name}\""
   ]
  },
  {
   "cell_type": "code",
   "execution_count": null,
   "metadata": {},
   "outputs": [],
   "source": [
    "# 查詢表中所有資料\n",
    "conn_duckdb.execute(f\"SELECT * FROM {table_name} order by Date desc LIMIT 10\").fetch_df()"
   ]
  },
  {
   "cell_type": "code",
   "execution_count": null,
   "metadata": {},
   "outputs": [],
   "source": [
    "# 關閉資料庫連線\n",
    "conn_duckdb.close()\n",
    "print(\"資料庫連線已關閉\")"
   ]
  },
  {
   "cell_type": "code",
   "execution_count": null,
   "metadata": {},
   "outputs": [],
   "source": []
  }
 ],
 "metadata": {
  "kernelspec": {
   "display_name": ".venv",
   "language": "python",
   "name": "python3"
  },
  "language_info": {
   "codemirror_mode": {
    "name": "ipython",
    "version": 3
   },
   "file_extension": ".py",
   "mimetype": "text/x-python",
   "name": "python",
   "nbconvert_exporter": "python",
   "pygments_lexer": "ipython3",
   "version": "3.12.11"
  }
 },
 "nbformat": 4,
 "nbformat_minor": 2
}
