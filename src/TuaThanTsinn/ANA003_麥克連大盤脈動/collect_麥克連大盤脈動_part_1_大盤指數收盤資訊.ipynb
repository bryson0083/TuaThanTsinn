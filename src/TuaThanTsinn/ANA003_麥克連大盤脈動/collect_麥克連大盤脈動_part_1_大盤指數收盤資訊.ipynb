{
 "cells": [
  {
   "cell_type": "markdown",
   "metadata": {},
   "source": [
    "# 麥克連大盤脈動_part_1_大盤指數收盤資訊   \n",
    "* 大盤指數收盤資訊資料來源 [每日市場成交資訊](https://www.twse.com.tw/zh/trading/historical/fmtqik.html)  "
   ]
  },
  {
   "cell_type": "code",
   "execution_count": 1,
   "metadata": {},
   "outputs": [],
   "source": [
    "import os\n",
    "import sys\n",
    "from pathlib import Path\n",
    "import pandas as pd\n",
    "import duckdb"
   ]
  },
  {
   "cell_type": "code",
   "execution_count": 2,
   "metadata": {},
   "outputs": [],
   "source": [
    "from finlab import data"
   ]
  },
  {
   "cell_type": "code",
   "execution_count": null,
   "metadata": {},
   "outputs": [],
   "source": [
    "# 引用自建公用模組\n",
    "sys.path.insert(0, str(Path.cwd().parent))\n",
    "from proj_util_pkg.settings import ProjEnvSettings\n",
    "\n",
    "from proj_util_pkg.finlab_api import finlab_manager as flm\n",
    "from proj_util_pkg.common.duckdb_tool import insert_dataframe_to_duckdb"
   ]
  },
  {
   "cell_type": "markdown",
   "metadata": {},
   "source": [
    "## 公用參數設定"
   ]
  },
  {
   "cell_type": "code",
   "execution_count": 4,
   "metadata": {},
   "outputs": [],
   "source": [
    "pd.set_option(\"display.max_columns\", None)"
   ]
  },
  {
   "cell_type": "code",
   "execution_count": null,
   "metadata": {},
   "outputs": [],
   "source": [
    "# finlab api 服務初始化\n",
    "finlab = flm.FinlabManager()\n",
    "data.force_cloud_download = False"
   ]
  },
  {
   "cell_type": "code",
   "execution_count": 6,
   "metadata": {},
   "outputs": [],
   "source": [
    "# 設定資料庫路徑\n",
    "TWSTOCK_DATA_ROOT = os.environ.get(\"hist_data_path\")\n",
    "twstock_db_path = f\"{TWSTOCK_DATA_ROOT}/twstock.duckdb\""
   ]
  },
  {
   "cell_type": "code",
   "execution_count": 7,
   "metadata": {},
   "outputs": [],
   "source": [
    "# 連線資料庫\n",
    "conn_duckdb = duckdb.connect(twstock_db_path)"
   ]
  },
  {
   "cell_type": "markdown",
   "metadata": {},
   "source": [
    "## 大盤指數收盤資訊  \n",
    "* 大盤指數收盤資訊資料來源 [每日市場成交資訊](https://www.twse.com.tw/zh/trading/historical/fmtqik.html)  "
   ]
  },
  {
   "cell_type": "code",
   "execution_count": 8,
   "metadata": {},
   "outputs": [],
   "source": [
    "# 讀取台股加權指數\n",
    "market_info_index = data.get('market_transaction_info:收盤指數', save_to_storage=True)\n",
    "market_info_index.rename(columns={'OTC': 'OTC指數', 'TAIEX': 'TAIEX指數'}, inplace=True)\n",
    "market_info_index.reset_index(inplace=True)"
   ]
  },
  {
   "cell_type": "code",
   "execution_count": 9,
   "metadata": {},
   "outputs": [],
   "source": [
    "# 計算TAIEX漲跌數\n",
    "market_info_index['TAIEX_漲跌數'] = market_info_index['TAIEX指數'].diff()\n",
    "\n",
    "# 依據TAIEX指數漲跌幅度\n",
    "market_info_index['TAIEX_漲跌幅'] = market_info_index['TAIEX指數'].diff() / market_info_index['TAIEX指數'].shift(1) * 100\n",
    "\n",
    "# 計算OTC漲跌數\n",
    "market_info_index['OTC_漲跌數'] = market_info_index['OTC指數'].diff()\n",
    "\n",
    "# 計算OTC指數漲跌幅度\n",
    "market_info_index['OTC_漲跌幅'] = market_info_index['OTC指數'].diff() / market_info_index['OTC指數'].shift(1) * 100\n"
   ]
  },
  {
   "cell_type": "code",
   "execution_count": null,
   "metadata": {},
   "outputs": [],
   "source": [
    "market_info_index"
   ]
  },
  {
   "cell_type": "code",
   "execution_count": 11,
   "metadata": {},
   "outputs": [],
   "source": [
    "# 讀取台股成交金額資訊\n",
    "market_info_amount = data.get('market_transaction_info:成交金額', save_to_storage=True)\n",
    "market_info_amount.rename(columns={'OTC': 'OTC成交金額', 'TAIEX': 'TAIEX成交金額'}, inplace=True)\n",
    "\n",
    "# market_info_amount金額換算成億元\n",
    "market_info_amount['OTC成交金額'] = market_info_amount['OTC成交金額'] / 100000000\n",
    "market_info_amount['TAIEX成交金額'] = market_info_amount['TAIEX成交金額'] / 100000000\n",
    "\n",
    "market_info_amount.reset_index(inplace=True)\n"
   ]
  },
  {
   "cell_type": "code",
   "execution_count": null,
   "metadata": {},
   "outputs": [],
   "source": [
    "market_info_amount"
   ]
  },
  {
   "cell_type": "code",
   "execution_count": null,
   "metadata": {},
   "outputs": [],
   "source": [
    "# 使用 pandas 合併資料，然後存入 DuckDB\n",
    "# 依據 date 欄位 join market_info_index 與 market_info_amount\n",
    "merged_data = pd.merge(market_info_index, market_info_amount, on='date', how='inner')\n",
    "\n",
    "# 依據日期反向排序，取出最近30筆紀錄\n",
    "merged_data_sorted = merged_data.sort_values('date', ascending=False).head(30)\n",
    "\n",
    "# 選擇需要的欄位並重新命名\n",
    "tw_stock_barometer_part_01 = merged_data_sorted[[\n",
    "    'date', \n",
    "    'TAIEX指數', 'TAIEX_漲跌數', 'TAIEX_漲跌幅', 'TAIEX成交金額', \n",
    "    'OTC指數', 'OTC_漲跌數', 'OTC_漲跌幅', 'OTC成交金額'\n",
    "]].copy()\n",
    "\n",
    "# 重新命名 date 欄位為 Date\n",
    "tw_stock_barometer_part_01.rename(columns={'date': 'Date'}, inplace=True)\n",
    "\n",
    "# 使用工具函數將資料存入 DuckDB\n",
    "table_name = 'tw_sotck_barometer_part_01'\n",
    "insert_dataframe_to_duckdb(\n",
    "    df=tw_stock_barometer_part_01,\n",
    "    table_name=table_name,\n",
    "    conn=conn_duckdb,\n",
    "    if_exists='replace'  # 如果表已存在則替換\n",
    ")\n",
    "\n",
    "print(f\"✅ 成功將最近 {len(tw_stock_barometer_part_01)} 筆資料存入表 {table_name}\")\n",
    "print(f\"資料時間範圍: {tw_stock_barometer_part_01['Date'].min()} 至 {tw_stock_barometer_part_01['Date'].max()}\")\n",
    "print(f\"原始資料總筆數: {len(merged_data)} 筆，篩選後: {len(tw_stock_barometer_part_01)} 筆\")"
   ]
  },
  {
   "cell_type": "code",
   "execution_count": null,
   "metadata": {},
   "outputs": [],
   "source": [
    "# 查詢表中所有資料\n",
    "conn_duckdb.execute(f\"SELECT * FROM {table_name} order by Date desc LIMIT 10\").fetch_df()"
   ]
  },
  {
   "cell_type": "code",
   "execution_count": 15,
   "metadata": {},
   "outputs": [],
   "source": [
    "# 關閉資料庫連線\n",
    "conn_duckdb.close()\n"
   ]
  },
  {
   "cell_type": "code",
   "execution_count": null,
   "metadata": {},
   "outputs": [],
   "source": []
  }
 ],
 "metadata": {
  "kernelspec": {
   "display_name": ".venv",
   "language": "python",
   "name": "python3"
  },
  "language_info": {
   "codemirror_mode": {
    "name": "ipython",
    "version": 3
   },
   "file_extension": ".py",
   "mimetype": "text/x-python",
   "name": "python",
   "nbconvert_exporter": "python",
   "pygments_lexer": "ipython3",
   "version": "3.12.11"
  }
 },
 "nbformat": 4,
 "nbformat_minor": 2
}
