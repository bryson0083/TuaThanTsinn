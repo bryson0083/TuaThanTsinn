{
 "cells": [
  {
   "cell_type": "markdown",
   "metadata": {},
   "source": [
    "# 麥克連大盤脈動_part_2_融資融券餘額  "
   ]
  },
  {
   "cell_type": "code",
   "execution_count": 1,
   "metadata": {},
   "outputs": [],
   "source": [
    "import os\n",
    "import sys\n",
    "from pathlib import Path\n",
    "import pandas as pd\n",
    "import duckdb"
   ]
  },
  {
   "cell_type": "code",
   "execution_count": 2,
   "metadata": {},
   "outputs": [],
   "source": [
    "from finlab import data"
   ]
  },
  {
   "cell_type": "code",
   "execution_count": null,
   "metadata": {},
   "outputs": [],
   "source": [
    "# 引用自建公用模組\n",
    "sys.path.insert(0, str(Path.cwd().parent))\n",
    "from proj_util_pkg.settings import ProjEnvSettings\n",
    "\n",
    "from proj_util_pkg.finlab_api import finlab_manager as flm"
   ]
  },
  {
   "cell_type": "markdown",
   "metadata": {},
   "source": [
    "## 公用參數設定"
   ]
  },
  {
   "cell_type": "code",
   "execution_count": 4,
   "metadata": {},
   "outputs": [],
   "source": [
    "pd.set_option(\"display.max_columns\", None)"
   ]
  },
  {
   "cell_type": "code",
   "execution_count": null,
   "metadata": {},
   "outputs": [],
   "source": [
    "# finlab api 服務初始化\n",
    "finlab = flm.FinlabManager()\n",
    "data.force_cloud_download = False"
   ]
  },
  {
   "cell_type": "code",
   "execution_count": 6,
   "metadata": {},
   "outputs": [],
   "source": [
    "# 設定資料庫路徑\n",
    "TWSTOCK_DATA_ROOT = os.environ.get(\"hist_data_path\")\n",
    "twstock_db_path = f\"{TWSTOCK_DATA_ROOT}/twstock.duckdb\""
   ]
  },
  {
   "cell_type": "code",
   "execution_count": 7,
   "metadata": {},
   "outputs": [],
   "source": [
    "# TWSTOCK_DATA_ROOT = os.environ.get(\"hist_data_path\")\n",
    "# twstock_db_path = f\"{os.getcwd()}\\\\data\\\\twstock.duckdb\""
   ]
  },
  {
   "cell_type": "code",
   "execution_count": 8,
   "metadata": {},
   "outputs": [],
   "source": [
    "# 連線資料庫\n",
    "conn_duckdb = duckdb.connect(twstock_db_path)"
   ]
  },
  {
   "cell_type": "code",
   "execution_count": null,
   "metadata": {},
   "outputs": [],
   "source": [
    "# ipython 載入 sql 擴充, 並設置 duckdb 連接\n",
    "%load_ext sql\n",
    "\n",
    "%sql conn_duckdb"
   ]
  },
  {
   "cell_type": "code",
   "execution_count": null,
   "metadata": {},
   "outputs": [],
   "source": [
    "%%sql\n",
    "-- 方法1：查詢當前數據庫中的所有表\n",
    "SHOW TABLES;"
   ]
  },
  {
   "cell_type": "markdown",
   "metadata": {},
   "source": [
    "## 融資融券餘額"
   ]
  },
  {
   "cell_type": "code",
   "execution_count": null,
   "metadata": {},
   "outputs": [],
   "source": [
    "# 讀取融資餘額\n",
    "margin_transactions_info = data.get('margin_balance:融資券總餘額', save_to_storage=True)\n",
    "margin_transactions_info"
   ]
  },
  {
   "cell_type": "code",
   "execution_count": null,
   "metadata": {},
   "outputs": [],
   "source": [
    "margin_transactions_info.reset_index(inplace=True)\n",
    "margin_transactions_info = margin_transactions_info[[\"date\", \"上市融券交易張數\", \"上市融資交易金額\", \"上櫃融券交易張數\", \"上櫃融資交易金額\"]]\n",
    "\n",
    "# 交易金額換算成億元\n",
    "margin_transactions_info['上市融資交易金額'] = margin_transactions_info['上市融資交易金額'] / 100000000\n",
    "margin_transactions_info['上櫃融資交易金額'] = margin_transactions_info['上櫃融資交易金額'] / 100000000\n",
    "\n",
    "margin_transactions_info"
   ]
  },
  {
   "cell_type": "code",
   "execution_count": null,
   "metadata": {},
   "outputs": [],
   "source": [
    "# 計算融券資減幅度\n",
    "margin_transactions_info['上市融資增減幅度'] = margin_transactions_info['上市融資交易金額'].diff() / margin_transactions_info['上市融資交易金額'].shift(1) * 100\n",
    "margin_transactions_info['上櫃融資增減幅度'] = margin_transactions_info['上櫃融資交易金額'].diff() / margin_transactions_info['上櫃融資交易金額'].shift(1) * 100\n",
    "\n",
    "# 計算融券增減幅度\n",
    "margin_transactions_info['上市融券增減幅度'] = margin_transactions_info['上市融券交易張數'].diff() / margin_transactions_info['上市融券交易張數'].shift(1) * 100\n",
    "margin_transactions_info['上櫃融券增減幅度'] = margin_transactions_info['上櫃融券交易張數'].diff() / margin_transactions_info['上櫃融券交易張數'].shift(1) * 100\n",
    "\n",
    "margin_transactions_info"
   ]
  },
  {
   "cell_type": "code",
   "execution_count": 14,
   "metadata": {},
   "outputs": [],
   "source": [
    "mt_df = margin_transactions_info[\n",
    "    [\n",
    "        'date', '上市融資交易金額', '上市融資增減幅度', '上市融券交易張數', '上市融券增減幅度', \n",
    "        '上櫃融資交易金額', '上櫃融資增減幅度', '上櫃融券交易張數', '上櫃融券增減幅度'\n",
    "    ]\n",
    "]"
   ]
  },
  {
   "cell_type": "code",
   "execution_count": null,
   "metadata": {},
   "outputs": [],
   "source": [
    "%%sql\n",
    "\n",
    "-- 檢查表是否存在\n",
    "CREATE TABLE IF NOT EXISTS tw_sotck_barometer_part_02 (\n",
    "    date DATE PRIMARY KEY,\n",
    "    上市融資交易金額 DOUBLE,\n",
    "    上市融資增減幅度 DOUBLE,\n",
    "    上市融券交易張數 DOUBLE,\n",
    "    上市融券增減幅度 DOUBLE,\n",
    "    上櫃融資交易金額 DOUBLE,\n",
    "    上櫃融資增減幅度 DOUBLE,\n",
    "    上櫃融券交易張數 DOUBLE,\n",
    "    上櫃融券增減幅度 DOUBLE\n",
    ");\n",
    "\n",
    "-- 使用UPSERT功能將資料插入或更新\n",
    "INSERT OR REPLACE INTO tw_sotck_barometer_part_02\n",
    "SELECT * FROM mt_df;"
   ]
  },
  {
   "cell_type": "code",
   "execution_count": null,
   "metadata": {},
   "outputs": [],
   "source": [
    "%%sql\n",
    "\n",
    "-- 顯示資料筆數\n",
    "SELECT COUNT(*) AS total_records FROM tw_sotck_barometer_part_02;\n",
    "\n",
    "-- 顯示最新的幾筆資料\n",
    "SELECT * FROM tw_sotck_barometer_part_02 ORDER BY date DESC LIMIT 5;"
   ]
  },
  {
   "cell_type": "code",
   "execution_count": 17,
   "metadata": {},
   "outputs": [],
   "source": [
    "# 關閉資料庫連線\n",
    "conn_duckdb.close()\n"
   ]
  },
  {
   "cell_type": "code",
   "execution_count": null,
   "metadata": {},
   "outputs": [],
   "source": []
  }
 ],
 "metadata": {
  "kernelspec": {
   "display_name": ".venv",
   "language": "python",
   "name": "python3"
  },
  "language_info": {
   "codemirror_mode": {
    "name": "ipython",
    "version": 3
   },
   "file_extension": ".py",
   "mimetype": "text/x-python",
   "name": "python",
   "nbconvert_exporter": "python",
   "pygments_lexer": "ipython3",
   "version": "3.12.11"
  }
 },
 "nbformat": 4,
 "nbformat_minor": 2
}
