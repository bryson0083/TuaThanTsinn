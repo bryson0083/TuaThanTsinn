{
 "cells": [
  {
   "cell_type": "markdown",
   "metadata": {},
   "source": [
    "# 麥克連大盤脈動_part_4_三大法人買賣超  "
   ]
  },
  {
   "cell_type": "code",
   "execution_count": 1,
   "metadata": {},
   "outputs": [],
   "source": [
    "import os\n",
    "import sys\n",
    "from pathlib import Path\n",
    "import pandas as pd\n",
    "import duckdb"
   ]
  },
  {
   "cell_type": "code",
   "execution_count": 2,
   "metadata": {},
   "outputs": [],
   "source": [
    "from finlab import data"
   ]
  },
  {
   "cell_type": "code",
   "execution_count": null,
   "metadata": {},
   "outputs": [],
   "source": [
    "# 引用自建公用模組\n",
    "sys.path.insert(0, str(Path.cwd().parent))\n",
    "from proj_util_pkg.settings import ProjEnvSettings\n",
    "\n",
    "from proj_util_pkg.finlab_api import finlab_manager as flm"
   ]
  },
  {
   "cell_type": "markdown",
   "metadata": {},
   "source": [
    "## 公用參數設定"
   ]
  },
  {
   "cell_type": "code",
   "execution_count": 4,
   "metadata": {},
   "outputs": [],
   "source": [
    "pd.set_option(\"display.max_columns\", None)"
   ]
  },
  {
   "cell_type": "code",
   "execution_count": null,
   "metadata": {},
   "outputs": [],
   "source": [
    "# finlab api 服務初始化\n",
    "finlab = flm.FinlabManager()\n",
    "data.force_cloud_download = False"
   ]
  },
  {
   "cell_type": "code",
   "execution_count": 6,
   "metadata": {},
   "outputs": [],
   "source": [
    "# 設定資料庫路徑\n",
    "TWSTOCK_DATA_ROOT = os.environ.get(\"hist_data_path\")\n",
    "twstock_db_path = f\"{TWSTOCK_DATA_ROOT}/twstock.duckdb\""
   ]
  },
  {
   "cell_type": "code",
   "execution_count": 7,
   "metadata": {},
   "outputs": [],
   "source": [
    "# 連線資料庫\n",
    "conn_duckdb = duckdb.connect(twstock_db_path)"
   ]
  },
  {
   "cell_type": "code",
   "execution_count": null,
   "metadata": {},
   "outputs": [],
   "source": [
    "# ipython 載入 sql 擴充, 並設置 duckdb 連接\n",
    "%load_ext sql\n",
    "\n",
    "%sql conn_duckdb"
   ]
  },
  {
   "cell_type": "code",
   "execution_count": null,
   "metadata": {},
   "outputs": [],
   "source": [
    "%%sql\n",
    "-- 方法1：查詢當前數據庫中的所有表\n",
    "SHOW TABLES;"
   ]
  },
  {
   "cell_type": "markdown",
   "metadata": {},
   "source": [
    "## 三大法人買賣超  "
   ]
  },
  {
   "cell_type": "code",
   "execution_count": 10,
   "metadata": {},
   "outputs": [],
   "source": [
    "# 三大法人買賣超 from Finlab\n",
    "major_institution_info = data.get('institutional_investors_trading_all_market_summary:買賣超', save_to_storage=True)\n",
    "major_institution_info.reset_index(inplace=True)\n",
    "major_institution_info = major_institution_info[['date', '上市自營商(自行買賣)', '上市自營商(避險)', '上市投信', '上市外資及陸資(不含外資自營商)']]\n",
    "# major_institution_info"
   ]
  },
  {
   "cell_type": "code",
   "execution_count": null,
   "metadata": {},
   "outputs": [],
   "source": [
    "# 將date以外的欄位金額換算成億元\n",
    "major_institution_info['上市自營商(自行買賣)'] = major_institution_info['上市自營商(自行買賣)'] / 100000000\n",
    "major_institution_info['上市自營商(避險)'] = major_institution_info['上市自營商(避險)'] / 100000000\n",
    "major_institution_info['上市投信'] = major_institution_info['上市投信'] / 100000000\n",
    "major_institution_info['上市外資及陸資(不含外資自營商)'] = major_institution_info['上市外資及陸資(不含外資自營商)'] / 100000000\n",
    "major_institution_info"
   ]
  },
  {
   "cell_type": "code",
   "execution_count": 12,
   "metadata": {},
   "outputs": [],
   "source": [
    "# 欄位名稱rename\n",
    "major_institution_info.rename(\n",
    "    columns={\n",
    "        'date': 'Date', \n",
    "    }\n",
    "    , inplace=True\n",
    ")"
   ]
  },
  {
   "cell_type": "code",
   "execution_count": null,
   "metadata": {},
   "outputs": [],
   "source": [
    "major_institution_info"
   ]
  },
  {
   "cell_type": "code",
   "execution_count": null,
   "metadata": {},
   "outputs": [],
   "source": [
    "%%sql\n",
    "-- 先检查表是否存在，如果不存在则创建\n",
    "CREATE TABLE IF NOT EXISTS tw_sotck_barometer_part_04 (\n",
    "    Date DATE PRIMARY KEY,\n",
    "    上市自營商_自行買賣 DOUBLE,\n",
    "    上市自營商_避險 DOUBLE,\n",
    "    上市投信 DOUBLE,\n",
    "    上市外資及陸資_不含外資自營商 DOUBLE,\n",
    "    外資買賣超金額_多空分數 INTEGER\n",
    ");\n",
    "\n",
    "-- 使用UPSERT方式插入数据\n",
    "INSERT OR REPLACE INTO tw_sotck_barometer_part_04\n",
    "SELECT \n",
    "    CAST(Date AS DATE) AS Date,\n",
    "    \"上市自營商(自行買賣)\" as 上市自營商_自行買賣,\n",
    "    \"上市自營商(避險)\" as 上市自營商_避險,\n",
    "    \"上市投信\" as 上市投信,\n",
    "    \"上市外資及陸資(不含外資自營商)\" as 上市外資及陸資_不含外資自營商,\n",
    "    CASE \n",
    "        WHEN \"上市外資及陸資(不含外資自營商)\" < -200 THEN -2  -- 外资卖超超过200亿，标示两个空(-2分)\n",
    "        WHEN \"上市外資及陸資(不含外資自營商)\" < 0 THEN -1        -- 外资卖超少于200亿，标示一个空(-1分)\n",
    "        WHEN \"上市外資及陸資(不含外資自營商)\" > 150 THEN 2     -- 外资买超超过150亿，标示两个多(2分)\n",
    "        WHEN \"上市外資及陸資(不含外資自營商)\" > 0 THEN 1          -- 外资买超少于150亿，标示一个多(1分)\n",
    "        ELSE 0                                              -- 其他情况为0分\n",
    "    END AS 外資買賣超金額_多空分數\n",
    "FROM major_institution_info;"
   ]
  },
  {
   "cell_type": "code",
   "execution_count": null,
   "metadata": {},
   "outputs": [],
   "source": [
    "%%sql\n",
    "SELECT * FROM tw_sotck_barometer_part_04 ORDER BY Date DESC LIMIT 10;"
   ]
  },
  {
   "cell_type": "code",
   "execution_count": 16,
   "metadata": {},
   "outputs": [],
   "source": [
    "# 關閉資料庫連線\n",
    "conn_duckdb.close()"
   ]
  },
  {
   "cell_type": "code",
   "execution_count": null,
   "metadata": {},
   "outputs": [],
   "source": []
  }
 ],
 "metadata": {
  "kernelspec": {
   "display_name": ".venv",
   "language": "python",
   "name": "python3"
  },
  "language_info": {
   "codemirror_mode": {
    "name": "ipython",
    "version": 3
   },
   "file_extension": ".py",
   "mimetype": "text/x-python",
   "name": "python",
   "nbconvert_exporter": "python",
   "pygments_lexer": "ipython3",
   "version": "3.12.11"
  }
 },
 "nbformat": 4,
 "nbformat_minor": 2
}
