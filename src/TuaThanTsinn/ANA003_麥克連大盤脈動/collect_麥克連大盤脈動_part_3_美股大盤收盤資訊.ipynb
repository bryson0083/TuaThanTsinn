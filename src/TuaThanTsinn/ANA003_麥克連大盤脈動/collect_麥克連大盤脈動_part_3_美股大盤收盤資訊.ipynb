{
 "cells": [
  {
   "cell_type": "markdown",
   "metadata": {},
   "source": [
    "# 麥克連大盤脈動_part_3_美股大盤收盤資訊  \n",
    "* [StockQ.org](https://www.stockq.org/stock/history/)  \n",
    "* [道瓊](https://www.stockq.org/index/INDU.php)\n",
    "* [群益證券～全球主要指數收盤行情](https://stock.capital.com.tw/z/zn/zna/zna.djhtm)  \n",
    "* [道瓊指數 from histock](https://histock.tw/index/DJI)  \n",
    "* [NASDAQ指數 from histock](https://histock.tw/index/NASDAQ)  \n",
    "* [費城半導體 from histock](https://histock.tw/index/SOX)  \n",
    "* [台積電ＡＤＲ from histock](https://histock.tw/index/TSM)  \n",
    "* [美元指數 from histock](https://histock.tw/index/USDX)  "
   ]
  },
  {
   "cell_type": "markdown",
   "metadata": {},
   "source": []
  },
  {
   "cell_type": "code",
   "execution_count": 1,
   "metadata": {},
   "outputs": [],
   "source": [
    "import os\n",
    "import sys\n",
    "from pathlib import Path\n",
    "from io import StringIO\n",
    "import pandas as pd\n",
    "import requests\n",
    "from bs4 import BeautifulSoup\n",
    "import duckdb"
   ]
  },
  {
   "cell_type": "code",
   "execution_count": null,
   "metadata": {},
   "outputs": [],
   "source": [
    "# 引用自建公用模組\n",
    "sys.path.insert(0, str(Path.cwd().parent))\n",
    "from proj_util_pkg.settings import ProjEnvSettings"
   ]
  },
  {
   "cell_type": "markdown",
   "metadata": {},
   "source": [
    "## 公用參數設定"
   ]
  },
  {
   "cell_type": "code",
   "execution_count": 3,
   "metadata": {},
   "outputs": [],
   "source": [
    "pd.set_option(\"display.max_columns\", None)"
   ]
  },
  {
   "cell_type": "code",
   "execution_count": 4,
   "metadata": {},
   "outputs": [],
   "source": [
    "# 設定資料庫路徑\n",
    "TWSTOCK_DATA_ROOT = os.environ.get(\"hist_data_path\")\n",
    "twstock_db_path = f\"{TWSTOCK_DATA_ROOT}/twstock.duckdb\""
   ]
  },
  {
   "cell_type": "code",
   "execution_count": 5,
   "metadata": {},
   "outputs": [],
   "source": [
    "# TWSTOCK_DATA_ROOT = os.environ.get(\"hist_data_path\")\n",
    "# twstock_db_path = f\"{os.getcwd()}\\\\data\\\\twstock.duckdb\""
   ]
  },
  {
   "cell_type": "code",
   "execution_count": 6,
   "metadata": {},
   "outputs": [],
   "source": [
    "# 連線資料庫\n",
    "conn_duckdb = duckdb.connect(twstock_db_path)"
   ]
  },
  {
   "cell_type": "code",
   "execution_count": null,
   "metadata": {},
   "outputs": [],
   "source": [
    "# ipython 載入 sql 擴充, 並設置 duckdb 連接\n",
    "%load_ext sql\n",
    "\n",
    "%sql conn_duckdb"
   ]
  },
  {
   "cell_type": "code",
   "execution_count": null,
   "metadata": {},
   "outputs": [],
   "source": [
    "%%sql\n",
    "-- 方法1：查詢當前數據庫中的所有表\n",
    "SHOW TABLES;"
   ]
  },
  {
   "cell_type": "markdown",
   "metadata": {},
   "source": [
    "## 美股大盤收盤資訊  "
   ]
  },
  {
   "cell_type": "markdown",
   "metadata": {},
   "source": [
    "## FUNCTION BLOCK\n"
   ]
  },
  {
   "cell_type": "code",
   "execution_count": 9,
   "metadata": {},
   "outputs": [],
   "source": [
    "def get_from_histock(target_url):\n",
    "    \"\"\" 從 histock 取得資料  \n",
    "\n",
    "        target_url: 目標網站\n",
    "        return: dataframe\n",
    "    \"\"\"\n",
    "\n",
    "    # 設定 User-Agent 來模擬瀏覽器請求\n",
    "    headers = {\n",
    "        'User-Agent': 'Mozilla/5.0 (Windows NT 10.0; Win64; x64) AppleWebKit/537.36 (KHTML, like Gecko) Chrome/91.0.4472.124 Safari/537.36'\n",
    "    }\n",
    "\n",
    "    # 發送請求獲取網頁內容\n",
    "    response = requests.get(target_url, headers=headers)\n",
    "    response.encoding = 'utf-8'  # 設定編碼\n",
    "\n",
    "    # 使用 BeautifulSoup 解析 HTML\n",
    "    soup = BeautifulSoup(response.text, 'html.parser')\n",
    "\n",
    "    target_table = soup.find_all('table')[1]\n",
    "\n",
    "    if target_table is not None:\n",
    "        table_html = str(target_table)\n",
    "        # histock_df = pd.read_html(table_html)[0]\n",
    "        histock_df = pd.read_html(StringIO(table_html))[0]\n",
    "        \n",
    "        # 處理漲跌欄位\n",
    "        def _process_change(value):\n",
    "            if pd.isna(value):\n",
    "                return value\n",
    "            value = str(value)\n",
    "            if '▲' in value:\n",
    "                return float(value.replace('▲', ''))\n",
    "            elif '▼' in value:\n",
    "                return -float(value.replace('▼', ''))\n",
    "            return float(value) if value else 0\n",
    "    \n",
    "        # 處理比例欄位\n",
    "        def _process_percentage(value):\n",
    "            if pd.isna(value):\n",
    "                return value\n",
    "            return float(str(value).replace('%', ''))\n",
    "    \n",
    "        # 套用轉換函數\n",
    "        histock_df['漲跌'] = histock_df['漲跌'].apply(_process_change)\n",
    "        histock_df['比例'] = histock_df['比例'].apply(_process_percentage)\n",
    "        \n",
    "        # 移除所有 NaN 的行\n",
    "        histock_df = histock_df.dropna()\n",
    "    \n",
    "    else:\n",
    "        print(\"找不到目標表格\")\n",
    "\n",
    "    return histock_df\n"
   ]
  },
  {
   "cell_type": "markdown",
   "metadata": {},
   "source": [
    "## MAIN"
   ]
  },
  {
   "cell_type": "code",
   "execution_count": null,
   "metadata": {},
   "outputs": [],
   "source": [
    "# 取得道瓊指數資料\n",
    "dji_df = get_from_histock('https://histock.tw/index/DJI')\n",
    "\n",
    "# # 日期欄位轉換為日期格式\n",
    "# dji_df['日期'] = pd.to_datetime(dji_df['日期'])\n",
    "\n",
    "# 欄位名稱rename\n",
    "dji_df.rename(\n",
    "    columns={\n",
    "        '日期': 'Date', \n",
    "        '指數': '道瓊指數', \n",
    "        '漲跌': '道瓊漲跌數', \n",
    "        '比例': '道瓊漲跌比例'\n",
    "    }\n",
    "    , inplace=True\n",
    ")\n",
    "\n",
    "dji_df.head(3)"
   ]
  },
  {
   "cell_type": "code",
   "execution_count": null,
   "metadata": {},
   "outputs": [],
   "source": [
    "# 取得NASDAQ指數資料\n",
    "nasdaq_df = get_from_histock('https://histock.tw/index/NASDAQ')\n",
    "\n",
    "# 欄位名稱rename\n",
    "nasdaq_df.rename(\n",
    "    columns={\n",
    "        '日期': 'Date', \n",
    "        '指數': '納斯達克指數', \n",
    "        '漲跌': '納斯達克漲跌數', \n",
    "        '比例': '納斯達克漲跌比例'\n",
    "    }\n",
    "    , inplace=True\n",
    ")\n",
    "\n",
    "nasdaq_df.head(3)"
   ]
  },
  {
   "cell_type": "code",
   "execution_count": null,
   "metadata": {},
   "outputs": [],
   "source": [
    "# 取得費城半導體資料\n",
    "sox_df = get_from_histock('https://histock.tw/index/SOX')\n",
    "\n",
    "# 欄位名稱rename\n",
    "sox_df.rename(\n",
    "    columns={\n",
    "        '日期': 'Date', \n",
    "        '指數': '費城半導體指數', \n",
    "        '漲跌': '費城半導體漲跌數', \n",
    "        '比例': '費城半導體漲跌比例'\n",
    "    }\n",
    "    , inplace=True\n",
    ")\n",
    "\n",
    "sox_df.head(3)"
   ]
  },
  {
   "cell_type": "code",
   "execution_count": null,
   "metadata": {},
   "outputs": [],
   "source": [
    "# 取得台積電ＡＤＲ資料 \n",
    "tsmc_adr_df = get_from_histock('https://histock.tw/index/TSM')\n",
    "\n",
    "# 欄位名稱rename\n",
    "tsmc_adr_df.rename(\n",
    "    columns={\n",
    "        '日期': 'Date', \n",
    "        '指數': '台積電ADR指數', \n",
    "        '漲跌': '台積電ADR漲跌數', \n",
    "        '比例': '台積電ADR漲跌比例'\n",
    "    }\n",
    "    , inplace=True\n",
    ")\n",
    "\n",
    "tsmc_adr_df.head(3)"
   ]
  },
  {
   "cell_type": "code",
   "execution_count": null,
   "metadata": {},
   "outputs": [],
   "source": [
    "# 取得美元指數資料 \n",
    "usdx_df = get_from_histock('https://histock.tw/index/USDX')\n",
    "\n",
    "# 欄位名稱rename\n",
    "usdx_df.rename(\n",
    "    columns={\n",
    "        '日期': 'Date', \n",
    "        '指數': '美元指數', \n",
    "        '漲跌': '美元指數漲跌數', \n",
    "        '比例': '美元指數漲跌比例'\n",
    "    }\n",
    "    , inplace=True\n",
    ")\n",
    "\n",
    "usdx_df.head(3)\n"
   ]
  },
  {
   "cell_type": "code",
   "execution_count": null,
   "metadata": {},
   "outputs": [],
   "source": [
    "%%sql result <<\n",
    "WITH all_dates AS (\n",
    "    SELECT Date FROM dji_df\n",
    "    UNION \n",
    "    SELECT Date FROM nasdaq_df\n",
    "    UNION \n",
    "    SELECT Date FROM sox_df\n",
    "    UNION \n",
    "    SELECT Date FROM tsmc_adr_df\n",
    "    UNION \n",
    "    SELECT Date FROM usdx_df\n",
    ")\n",
    "SELECT \n",
    "    d.Date,\n",
    "    COALESCE(a.道瓊指數, 0) AS 道瓊指數, \n",
    "    COALESCE(a.道瓊漲跌數, 0) AS 道瓊漲跌數, \n",
    "    COALESCE(a.道瓊漲跌比例, 0) AS 道瓊漲跌比例,\n",
    "    \n",
    "    COALESCE(b.納斯達克指數, 0) AS 納斯達克指數, \n",
    "    COALESCE(b.納斯達克漲跌數, 0) AS 納斯達克漲跌數, \n",
    "    COALESCE(b.納斯達克漲跌比例, 0) AS 納斯達克漲跌比例,\n",
    "\n",
    "    -- 多空分數～道瓊與那斯達克一起看，兩項同增就多，同減為空\n",
    "    CASE \n",
    "        WHEN a.道瓊漲跌數 > 0 AND b.納斯達克漲跌數 > 0 THEN 1\n",
    "        WHEN a.道瓊漲跌數 < 0 AND b.納斯達克漲跌數 < 0 THEN -1\n",
    "        ELSE 0\n",
    "    END AS 道瓊_納斯達克_多空分數,\n",
    "    \n",
    "    COALESCE(c.費城半導體指數, 0) AS 費城半導體指數, \n",
    "    COALESCE(c.費城半導體漲跌數, 0) AS 費城半導體漲跌數, \n",
    "    COALESCE(c.費城半導體漲跌比例, 0) AS 費城半導體漲跌比例,\n",
    "\n",
    "    -- 多空分數～費半要看有沒有漲跌超過2%，才做標示，漲超過算多，跌超過算空，其他狀況不做標示\n",
    "    CASE \n",
    "        WHEN c.費城半導體漲跌比例 > 2 THEN 1\n",
    "        WHEN c.費城半導體漲跌比例 < -2 THEN -1\n",
    "        ELSE 0\n",
    "    END AS 費城半導體_多空分數,\n",
    "    \n",
    "    COALESCE(e.台積電ADR指數, 0) AS 台積電ADR指數, \n",
    "    COALESCE(e.台積電ADR漲跌數, 0) AS 台積電ADR漲跌數, \n",
    "    COALESCE(e.台積電ADR漲跌比例, 0) AS 台積電ADR漲跌比例,\n",
    "    \n",
    "    -- 多空分數～台積電ＡＤＲ要看有沒有漲跌超過1%，來標示多空，沒超過就都不做標示\n",
    "    CASE \n",
    "        WHEN e.台積電ADR漲跌比例 > 1 THEN 1\n",
    "        WHEN e.台積電ADR漲跌比例 < -1 THEN -1\n",
    "        ELSE 0\n",
    "    END AS 台積電ADR_多空分數,\n",
    "\n",
    "    COALESCE(f.美元指數, 0) AS 美元指數, \n",
    "    COALESCE(f.美元指數漲跌數, 0) AS 美元指數漲跌數, \n",
    "    COALESCE(f.美元指數漲跌比例, 0) AS 美元指數漲跌比例\n",
    "FROM \n",
    "    all_dates d\n",
    "LEFT JOIN \n",
    "    dji_df a ON d.Date = a.Date\n",
    "LEFT JOIN \n",
    "    nasdaq_df b ON d.Date = b.Date\n",
    "LEFT JOIN \n",
    "    sox_df c ON d.Date = c.Date\n",
    "LEFT JOIN \n",
    "    tsmc_adr_df e ON d.Date = e.Date\n",
    "LEFT JOIN \n",
    "    usdx_df f ON d.Date = f.Date\n",
    "ORDER BY \n",
    "    d.Date DESC"
   ]
  },
  {
   "cell_type": "code",
   "execution_count": null,
   "metadata": {},
   "outputs": [],
   "source": [
    "# 將 result 轉換為 DataFrame\n",
    "us_market_df = result.DataFrame()\n",
    "\n",
    "us_market_df.head(3)\n"
   ]
  },
  {
   "cell_type": "code",
   "execution_count": null,
   "metadata": {},
   "outputs": [],
   "source": [
    "%%sql\n",
    "-- 先检查表是否存在，如果不存在则创建\n",
    "CREATE TABLE IF NOT EXISTS tw_sotck_barometer_part_03 (\n",
    "    Date VARCHAR,\n",
    "    道瓊指數 DOUBLE,\n",
    "    道瓊漲跌數 DOUBLE,\n",
    "    道瓊漲跌比例 DOUBLE,\n",
    "    納斯達克指數 DOUBLE,\n",
    "    納斯達克漲跌數 DOUBLE,\n",
    "    納斯達克漲跌比例 DOUBLE,\n",
    "    道瓊_納斯達克_多空分數 INTEGER,\n",
    "    費城半導體指數 DOUBLE,\n",
    "    費城半導體漲跌數 DOUBLE,\n",
    "    費城半導體漲跌比例 DOUBLE,\n",
    "    費城半導體_多空分數 INTEGER,\n",
    "    台積電ADR指數 DOUBLE,\n",
    "    台積電ADR漲跌數 DOUBLE,\n",
    "    台積電ADR漲跌比例 DOUBLE,\n",
    "    台積電ADR_多空分數 INTEGER,\n",
    "    美元指數 DOUBLE,\n",
    "    美元指數漲跌數 DOUBLE,\n",
    "    美元指數漲跌比例 DOUBLE,\n",
    "    PRIMARY KEY (Date)\n",
    ");\n",
    "\n",
    "-- 使用UPSERT方式插入数据\n",
    "INSERT OR REPLACE INTO tw_sotck_barometer_part_03\n",
    "SELECT * FROM us_market_df;"
   ]
  },
  {
   "cell_type": "code",
   "execution_count": null,
   "metadata": {},
   "outputs": [],
   "source": [
    "%%sql\n",
    "SELECT * FROM tw_sotck_barometer_part_03 ORDER BY Date DESC LIMIT 10;"
   ]
  },
  {
   "cell_type": "code",
   "execution_count": null,
   "metadata": {},
   "outputs": [],
   "source": [
    "%%sql\n",
    "SELECT COUNT(*) FROM tw_sotck_barometer_part_03;"
   ]
  },
  {
   "cell_type": "code",
   "execution_count": 20,
   "metadata": {},
   "outputs": [],
   "source": [
    "# 關閉資料庫連線\n",
    "conn_duckdb.close()"
   ]
  },
  {
   "cell_type": "code",
   "execution_count": null,
   "metadata": {},
   "outputs": [],
   "source": []
  }
 ],
 "metadata": {
  "kernelspec": {
   "display_name": ".venv",
   "language": "python",
   "name": "python3"
  },
  "language_info": {
   "codemirror_mode": {
    "name": "ipython",
    "version": 3
   },
   "file_extension": ".py",
   "mimetype": "text/x-python",
   "name": "python",
   "nbconvert_exporter": "python",
   "pygments_lexer": "ipython3",
   "version": "3.12.11"
  }
 },
 "nbformat": 4,
 "nbformat_minor": 2
}
