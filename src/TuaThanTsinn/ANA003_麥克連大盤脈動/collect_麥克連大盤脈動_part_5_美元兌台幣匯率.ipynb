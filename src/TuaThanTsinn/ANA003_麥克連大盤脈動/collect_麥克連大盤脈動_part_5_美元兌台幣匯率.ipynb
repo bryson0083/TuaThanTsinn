{
 "cells": [
  {
   "cell_type": "markdown",
   "metadata": {},
   "source": [
    "# 麥克連大盤脈動_part_5_美元兌台幣匯率  \n",
    "* 中央銀行匯率資料來源 [新臺幣/美元 銀行間收盤匯率](https://www.cbc.gov.tw/tw/lp-645-1-1-60.html)"
   ]
  },
  {
   "cell_type": "code",
   "execution_count": 1,
   "metadata": {},
   "outputs": [],
   "source": [
    "import os\n",
    "import sys\n",
    "from pathlib import Path\n",
    "from io import StringIO\n",
    "import pandas as pd\n",
    "import requests\n",
    "import duckdb"
   ]
  },
  {
   "cell_type": "code",
   "execution_count": null,
   "metadata": {},
   "outputs": [],
   "source": [
    "# 引用自建公用模組\n",
    "sys.path.insert(0, str(Path.cwd().parent))\n",
    "from proj_util_pkg.settings import ProjEnvSettings"
   ]
  },
  {
   "cell_type": "markdown",
   "metadata": {},
   "source": [
    "## 公用參數設定"
   ]
  },
  {
   "cell_type": "code",
   "execution_count": 3,
   "metadata": {},
   "outputs": [],
   "source": [
    "pd.set_option(\"display.max_columns\", None)"
   ]
  },
  {
   "cell_type": "code",
   "execution_count": 4,
   "metadata": {},
   "outputs": [],
   "source": [
    "# 設定資料庫路徑\n",
    "TWSTOCK_DATA_ROOT = os.environ.get(\"hist_data_path\")\n",
    "twstock_db_path = f\"{TWSTOCK_DATA_ROOT}/twstock.duckdb\""
   ]
  },
  {
   "cell_type": "code",
   "execution_count": 5,
   "metadata": {},
   "outputs": [],
   "source": [
    "# # 設定資料庫路徑\n",
    "# TWSTOCK_DATA_ROOT = os.environ.get(\"hist_data_path\")\n",
    "# twstock_db_path = f\"{os.getcwd()}\\\\data\\\\twstock.duckdb\""
   ]
  },
  {
   "cell_type": "code",
   "execution_count": 6,
   "metadata": {},
   "outputs": [],
   "source": [
    "# 連線資料庫\n",
    "conn_duckdb = duckdb.connect(twstock_db_path)"
   ]
  },
  {
   "cell_type": "code",
   "execution_count": null,
   "metadata": {},
   "outputs": [],
   "source": [
    "# ipython 載入 sql 擴充, 並設置 duckdb 連接\n",
    "%load_ext sql\n",
    "\n",
    "%sql conn_duckdb"
   ]
  },
  {
   "cell_type": "code",
   "execution_count": null,
   "metadata": {},
   "outputs": [],
   "source": [
    "%%sql\n",
    "-- 方法1：查詢當前數據庫中的所有表\n",
    "SHOW TABLES;"
   ]
  },
  {
   "cell_type": "markdown",
   "metadata": {},
   "source": [
    "## 美元兌台幣匯率  "
   ]
  },
  {
   "cell_type": "code",
   "execution_count": null,
   "metadata": {},
   "outputs": [],
   "source": [
    "def get_usd_twd_rate():\n",
    "    \"\"\"從中央銀行網站取得美元兌台幣匯率資料\n",
    "    \n",
    "    Returns:\n",
    "        DataFrame: 包含日期和匯率的資料框\n",
    "    \"\"\"\n",
    "    url = 'https://www.cbc.gov.tw/tw/lp-645-1-1-60.html'\n",
    "    \n",
    "    # 設定 User-Agent 來模擬瀏覽器請求\n",
    "    headers = {\n",
    "        'User-Agent': 'Mozilla/5.0 (Windows NT 10.0; Win64; x64) AppleWebKit/537.36 (KHTML, like Gecko) Chrome/91.0.4472.124 Safari/537.36'\n",
    "    }\n",
    "    \n",
    "    try:\n",
    "        # 發送請求獲取網頁內容\n",
    "        response = requests.get(url, headers=headers, verify=False)\n",
    "        response.encoding = 'utf-8'  # 設定編碼\n",
    "        \n",
    "        # 使用 pandas 直接讀取 HTML 表格\n",
    "        # 由於網頁中可能有多個表格,我們取第一個表格(index=0)\n",
    "        # df = pd.read_html(response.text)[0]\n",
    "        df = pd.read_html(StringIO(response.text))[0]\n",
    "        \n",
    "        # 重新命名欄位\n",
    "        df.columns = ['date', 'rate']\n",
    "        \n",
    "        # 轉換日期格式\n",
    "        df['date'] = pd.to_datetime(df['date'], format='%Y/%m/%d')\n",
    "        \n",
    "        return df\n",
    "        \n",
    "    except Exception as e:\n",
    "        print(f\"發生錯誤: {e}\")\n",
    "        return None\n",
    "\n",
    "# 執行函數並顯示結果\n",
    "usd_twd_df = get_usd_twd_rate()\n",
    "usd_twd_df.head(3)"
   ]
  },
  {
   "cell_type": "code",
   "execution_count": null,
   "metadata": {},
   "outputs": [],
   "source": [
    "usd_twd_df"
   ]
  },
  {
   "cell_type": "code",
   "execution_count": 11,
   "metadata": {},
   "outputs": [],
   "source": [
    "# 欄位名稱rename\n",
    "usd_twd_df.rename(\n",
    "    columns={\n",
    "        'date': 'Date', \n",
    "    }\n",
    "    , inplace=True\n",
    ")"
   ]
  },
  {
   "cell_type": "code",
   "execution_count": null,
   "metadata": {},
   "outputs": [],
   "source": [
    "%%sql result <<\n",
    "\n",
    "-- 使用窗口函數計算匯率差異\n",
    "SELECT \n",
    "    t1.\"Date\",\n",
    "    t1.rate,\n",
    "    t1.rate - LAG(t1.rate) OVER (ORDER BY t1.\"Date\") AS rate_diff\n",
    "FROM usd_twd_df t1\n",
    "ORDER BY t1.\"Date\" DESC;"
   ]
  },
  {
   "cell_type": "code",
   "execution_count": null,
   "metadata": {},
   "outputs": [],
   "source": [
    "# 將 result 轉換為 DataFrame\n",
    "us_tw_exchange_rate_df = result.DataFrame()\n",
    "\n",
    "us_tw_exchange_rate_df.head(3)"
   ]
  },
  {
   "cell_type": "code",
   "execution_count": null,
   "metadata": {},
   "outputs": [],
   "source": [
    "%%sql\n",
    "-- 先检查表是否存在，如果不存在则创建\n",
    "CREATE TABLE IF NOT EXISTS tw_sotck_barometer_part_05 (\n",
    "    Date DATE PRIMARY KEY,\n",
    "    美元兌台幣匯率 DOUBLE,\n",
    "    美元兌台幣匯率_變動 DOUBLE,\n",
    "    美元兌台幣匯率_多空分數 INTEGER\n",
    ");\n",
    "\n",
    "-- 使用UPSERT方式插入数据\n",
    "INSERT OR REPLACE INTO tw_sotck_barometer_part_05\n",
    "SELECT \n",
    "    CAST(date AS DATE) AS Date,\n",
    "    rate AS 美元兌台幣匯率,\n",
    "    ROUND(rate_diff, 3) AS 美元兌台幣匯率_變動,\n",
    "    CASE \n",
    "        WHEN 美元兌台幣匯率_變動 <= -0.1 THEN 1    -- 台币强势（升值）\n",
    "        WHEN 美元兌台幣匯率_變動 >= 0.1 THEN -1    -- 台币弱势（贬值）\n",
    "        ELSE 0                                  -- 其他情况不计分\n",
    "    END AS 美元兌台幣匯率_多空分數\n",
    "FROM us_tw_exchange_rate_df;"
   ]
  },
  {
   "cell_type": "code",
   "execution_count": null,
   "metadata": {},
   "outputs": [],
   "source": [
    "%%sql\n",
    "SELECT * FROM tw_sotck_barometer_part_05 ORDER BY Date DESC LIMIT 10;"
   ]
  },
  {
   "cell_type": "code",
   "execution_count": 16,
   "metadata": {},
   "outputs": [],
   "source": [
    "# 關閉資料庫連線\n",
    "conn_duckdb.close()"
   ]
  },
  {
   "cell_type": "code",
   "execution_count": null,
   "metadata": {},
   "outputs": [],
   "source": []
  }
 ],
 "metadata": {
  "kernelspec": {
   "display_name": ".venv",
   "language": "python",
   "name": "python3"
  },
  "language_info": {
   "codemirror_mode": {
    "name": "ipython",
    "version": 3
   },
   "file_extension": ".py",
   "mimetype": "text/x-python",
   "name": "python",
   "nbconvert_exporter": "python",
   "pygments_lexer": "ipython3",
   "version": "3.12.11"
  }
 },
 "nbformat": 4,
 "nbformat_minor": 2
}
