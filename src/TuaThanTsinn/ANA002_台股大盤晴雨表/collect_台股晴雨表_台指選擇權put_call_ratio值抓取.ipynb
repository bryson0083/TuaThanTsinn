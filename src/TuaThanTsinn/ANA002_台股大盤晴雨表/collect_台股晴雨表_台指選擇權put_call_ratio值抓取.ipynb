{
 "cells": [
  {
   "cell_type": "markdown",
   "metadata": {},
   "source": [
    "# 台指選擇權put_call_ratio值抓取  \n",
    "* 透過openapi取得  \n",
    "> [臺指選擇權Put/Call比](https://openapi.taifex.com.tw/#/%E8%B3%87%E6%96%99%E6%9F%A5%E8%A9%A2API/get_PutCallRatio)\n",
    "* 舊數據透過網頁查詢下載csv檔案, 並將csv檔案轉存至duckdb  \n",
    "> 台灣期交所首頁 > 交易資訊 > 交易資訊 選擇權 > 臺指選擇權Put/Call比  \n",
    "> [臺指選擇權(TXO)Put/Call Ratios](https://www.taifex.com.tw/cht/3/pcRatio)"
   ]
  },
  {
   "cell_type": "code",
   "execution_count": 1,
   "metadata": {},
   "outputs": [],
   "source": [
    "import os\n",
    "import sys\n",
    "from pathlib import Path\n",
    "from datetime import date\n",
    "from datetime import datetime\n",
    "import requests\n",
    "import pandas as pd\n",
    "import duckdb"
   ]
  },
  {
   "cell_type": "code",
   "execution_count": null,
   "metadata": {},
   "outputs": [],
   "source": [
    "# 引用自建公用模組\n",
    "sys.path.insert(0, str(Path.cwd().parent))\n",
    "from proj_util_pkg.settings import ProjEnvSettings\n",
    "\n",
    "from proj_util_pkg.common.duckdb_tool import insert_dataframe_to_duckdb"
   ]
  },
  {
   "cell_type": "markdown",
   "metadata": {},
   "source": [
    "## 公用參數設定"
   ]
  },
  {
   "cell_type": "code",
   "execution_count": 3,
   "metadata": {},
   "outputs": [],
   "source": [
    "# 欄數全展開\n",
    "pd.set_option(\"display.max_columns\", None)"
   ]
  },
  {
   "cell_type": "code",
   "execution_count": 4,
   "metadata": {},
   "outputs": [],
   "source": [
    "# 新增偽裝成chrome瀏覽器的標頭\n",
    "headers = {\n",
    "    'User-Agent': 'Mozilla/5.0 (Windows NT 10.0; Win64; x64) AppleWebKit/537.36 (KHTML, like Gecko) Chrome/58.0.3029.110 Safari/537.3'\n",
    "}"
   ]
  },
  {
   "cell_type": "markdown",
   "metadata": {},
   "source": [
    "## 外部資料讀取  \n",
    "### 方法1: 透過期交所 open api 取得最近一個月數據  \n",
    "* API無法取得當天最新數據，只能取得Ｄ-1交易日資訊"
   ]
  },
  {
   "cell_type": "code",
   "execution_count": null,
   "metadata": {},
   "outputs": [],
   "source": [
    "# 取得散戶小台淨未平倉口數資料\n",
    "taifex_put_call_ratio = requests.get(\n",
    "    \"https://openapi.taifex.com.tw/v1/PutCallRatio\", \n",
    "    verify=False,\n",
    "    headers=headers\n",
    ").json()\n",
    "print(taifex_put_call_ratio)"
   ]
  },
  {
   "cell_type": "code",
   "execution_count": null,
   "metadata": {},
   "outputs": [],
   "source": [
    "# json 轉成 dataframe\n",
    "taifex_put_call_ratio_df = pd.DataFrame(taifex_put_call_ratio)\n",
    "print(taifex_put_call_ratio_df.shape)\n",
    "taifex_put_call_ratio_df"
   ]
  },
  {
   "cell_type": "markdown",
   "metadata": {},
   "source": [
    "### 方法2: 透過期交所網站下載資料進行更新  \n",
    "* 這方法可以取得最新交易日當天的資訊  "
   ]
  },
  {
   "cell_type": "code",
   "execution_count": null,
   "metadata": {},
   "outputs": [],
   "source": [
    "# 設置請求頭,模擬瀏覽器行為\n",
    "headers = {\n",
    "    'User-Agent': 'Mozilla/5.0 (Windows NT 10.0; Win64; x64) AppleWebKit/537.36 (KHTML, like Gecko) Chrome/58.0.3029.110 Safari/537.3',\n",
    "    'Accept': 'text/html,application/xhtml+xml,application/xml;q=0.9,image/webp,*/*;q=0.8',\n",
    "    'Accept-Language': 'zh-TW,zh;q=0.9,en-US;q=0.8,en;q=0.7',\n",
    "    'Accept-Encoding': 'gzip, deflate, br',\n",
    "    'Connection': 'keep-alive',\n",
    "    'Upgrade-Insecure-Requests': '1',\n",
    "    'Referer': 'https://www.taifex.com.tw/cht/3/pcRatio'\n",
    "}\n",
    "\n",
    "# 日期參數設定\n",
    "# input_date = \"2024/08/05\"  # 保留作為手動指定日期\n",
    "input_date = date.today().strftime(\"%Y/%m/%d\")  # 預設指定當天日期\n",
    "\n",
    "end_date = pd.to_datetime(input_date)\n",
    "last_month = (end_date - pd.DateOffset(days=30)).strftime(\"%Y/%m/%d\")\n",
    "\n",
    "# 設置請求參數\n",
    "# payload = {\n",
    "#     'down_type': '',\n",
    "#     'queryStartDate': '2024/09/04',\n",
    "#     'queryEndDate': '2024/10/04'\n",
    "# }\n",
    "payload = {\n",
    "    'down_type': '',\n",
    "    'queryStartDate': last_month,\n",
    "    'queryEndDate': end_date.strftime(\"%Y/%m/%d\")\n",
    "}\n",
    "print(payload)\n",
    "\n",
    "# 發送POST請求\n",
    "url = 'https://www.taifex.com.tw/cht/3/pcRatioDown'\n",
    "response = requests.post(url, headers=headers, data=payload)\n",
    "\n",
    "# 檢查請求是否成功\n",
    "if response.status_code == 200:\n",
    "    # 將內容保存為CSV檔案\n",
    "    with open('tw_pc_ratio.csv', 'wb') as file:\n",
    "        file.write(response.content)\n",
    "    print(\"檔案已成功下載為 tw_pc_ratio.csv\")\n",
    "\n",
    "    # 讀取CSV檔案並顯示內容，設定no header\n",
    "    tw_pc_ratio_df = pd.read_csv('tw_pc_ratio.csv', skiprows=1, header=None, encoding='big5')\n",
    "    \n",
    "    # tw_pc_ratio_df移除最後一欄都是空的資料\n",
    "    tw_pc_ratio_df = tw_pc_ratio_df.dropna(how='all', axis=1)\n",
    "    tw_pc_ratio_df.columns = taifex_put_call_ratio_df.columns\n",
    "    tw_pc_ratio_df.loc[:,\"Date\"] = pd.to_datetime(tw_pc_ratio_df[\"Date\"])\n",
    "\n",
    "    os.remove('tw_pc_ratio.csv')\n",
    "else:\n",
    "    print(f\"請求失敗,狀態碼: {response.status_code}\")\n"
   ]
  },
  {
   "cell_type": "code",
   "execution_count": null,
   "metadata": {},
   "outputs": [],
   "source": [
    "# 將tw_pc_ratio_df 複製給 taifex_put_call_ratio_df\n",
    "taifex_put_call_ratio_df = tw_pc_ratio_df.copy()\n",
    "\n",
    "print(taifex_put_call_ratio_df.shape)\n",
    "taifex_put_call_ratio_df.head(3)"
   ]
  },
  {
   "cell_type": "markdown",
   "metadata": {},
   "source": [
    "## 資料留存ＤＢ"
   ]
  },
  {
   "cell_type": "code",
   "execution_count": 9,
   "metadata": {},
   "outputs": [],
   "source": [
    "# 設定資料庫路徑\n",
    "TWSTOCK_DATA_ROOT = os.environ.get(\"hist_data_path\")\n",
    "twstock_db_path = f\"{TWSTOCK_DATA_ROOT}/twstock.duckdb\""
   ]
  },
  {
   "cell_type": "code",
   "execution_count": 10,
   "metadata": {},
   "outputs": [],
   "source": [
    "# 連線資料庫\n",
    "conn_duckdb = duckdb.connect(twstock_db_path)"
   ]
  },
  {
   "cell_type": "code",
   "execution_count": 11,
   "metadata": {},
   "outputs": [],
   "source": [
    "table_name = \"tw_pc_ratio\""
   ]
  },
  {
   "cell_type": "code",
   "execution_count": null,
   "metadata": {},
   "outputs": [],
   "source": [
    "insert_row_count = insert_dataframe_to_duckdb(\n",
    "    conn_duckdb, \n",
    "    taifex_put_call_ratio_df, \n",
    "    table_name, \n",
    "    date_column='Date'\n",
    ")\n",
    "\n",
    "f\"成功插入 {insert_row_count} 筆資料到 {table_name}\""
   ]
  },
  {
   "cell_type": "code",
   "execution_count": null,
   "metadata": {},
   "outputs": [],
   "source": [
    "# 查詢表中所有資料\n",
    "conn_duckdb.execute(f\"SELECT * FROM {table_name} order by Date desc\").fetch_df()"
   ]
  },
  {
   "cell_type": "code",
   "execution_count": 14,
   "metadata": {},
   "outputs": [],
   "source": [
    "# 關閉資料庫連線\n",
    "conn_duckdb.close()"
   ]
  },
  {
   "cell_type": "code",
   "execution_count": null,
   "metadata": {},
   "outputs": [],
   "source": []
  }
 ],
 "metadata": {
  "kernelspec": {
   "display_name": ".venv",
   "language": "python",
   "name": "python3"
  },
  "language_info": {
   "codemirror_mode": {
    "name": "ipython",
    "version": 3
   },
   "file_extension": ".py",
   "mimetype": "text/x-python",
   "name": "python",
   "nbconvert_exporter": "python",
   "pygments_lexer": "ipython3",
   "version": "3.12.11"
  }
 },
 "nbformat": 4,
 "nbformat_minor": 2
}
