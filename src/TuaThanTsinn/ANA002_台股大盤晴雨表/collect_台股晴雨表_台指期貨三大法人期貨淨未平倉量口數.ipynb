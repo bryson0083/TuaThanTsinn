{
 "cells": [
  {
   "cell_type": "markdown",
   "metadata": {},
   "source": [
    "# 三大法人期貨淨未平倉量口數  \n",
    "* 抓取目標包含大台、小台、微型台指期貨，以及金融期貨、電子期貨  \n",
    "* 三大法人（外資、投信、自營商）期貨未平倉口數淨額  \n",
    "* 使用 finlab api 取得資料  "
   ]
  },
  {
   "cell_type": "code",
   "execution_count": 26,
   "metadata": {},
   "outputs": [],
   "source": [
    "import os\n",
    "import sys\n",
    "from pathlib import Path\n",
    "import pandas as pd\n",
    "import duckdb"
   ]
  },
  {
   "cell_type": "code",
   "execution_count": 27,
   "metadata": {},
   "outputs": [],
   "source": [
    "from finlab import data"
   ]
  },
  {
   "cell_type": "code",
   "execution_count": 28,
   "metadata": {},
   "outputs": [],
   "source": [
    "# 引用自建公用模組\n",
    "sys.path.insert(0, str(Path.cwd().parent))\n",
    "from proj_util_pkg.settings import ProjEnvSettings\n",
    "\n",
    "from proj_util_pkg.finlab_api import finlab_manager as flm\n",
    "from proj_util_pkg.common.duckdb_tool import insert_dataframe_to_duckdb"
   ]
  },
  {
   "cell_type": "markdown",
   "metadata": {},
   "source": [
    "## 公用參數設定"
   ]
  },
  {
   "cell_type": "code",
   "execution_count": 29,
   "metadata": {},
   "outputs": [],
   "source": [
    "# 欄數全展開\n",
    "pd.set_option(\"display.max_columns\", None)"
   ]
  },
  {
   "cell_type": "code",
   "execution_count": null,
   "metadata": {},
   "outputs": [],
   "source": [
    "# finlab api 服務初始化\n",
    "finlab = flm.FinlabManager()\n",
    "data.force_cloud_download = False"
   ]
  },
  {
   "cell_type": "markdown",
   "metadata": {},
   "source": [
    "## 外部資料讀取  "
   ]
  },
  {
   "cell_type": "code",
   "execution_count": 31,
   "metadata": {},
   "outputs": [],
   "source": [
    "# 外資期貨未平倉口數淨額\n",
    "net_oi = data.get('futures_institutional_investors_trading_summary:多空未平倉口數淨額', save_to_storage=True)"
   ]
  },
  {
   "cell_type": "code",
   "execution_count": null,
   "metadata": {},
   "outputs": [],
   "source": [
    "# 選取特定欄位\n",
    "target_cols = [\n",
    "    \"臺股期貨_外資及陸資\", \"臺股期貨_投信\", \"臺股期貨_自營商\",  \n",
    "    \"小型臺指期貨_外資及陸資\", \"小型臺指期貨_投信\", \"小型臺指期貨_自營商\",\n",
    "    \"微型臺指期貨_外資及陸資\", \"微型臺指期貨_投信\", \"微型臺指期貨_自營商\",\n",
    "    \"金融期貨_外資及陸資\", \"金融期貨_投信\", \"金融期貨_自營商\",\n",
    "    \"電子期貨_外資及陸資\", \"電子期貨_投信\", \"電子期貨_自營商\"\n",
    "]\n",
    "\n",
    "net_oi_df = net_oi.loc[:, target_cols]\n",
    "net_oi_df.reset_index(inplace=True)\n",
    "\n",
    "# column name 含有 \"外資及陸資\" 的欄位，將其名稱改為 \"外資\"\n",
    "net_oi_df.columns = net_oi_df.columns.str.replace(\"外資及陸資\", \"外資\")\n",
    "\n",
    "# 將 date 欄位 rename 為\"Date\" 欄位轉換為 datetime 格式\n",
    "net_oi_df.rename(columns={\"date\": \"Date\"}, inplace=True)\n",
    "net_oi_df[\"Date\"] = pd.to_datetime(net_oi_df[\"Date\"])\n",
    "\n",
    "# 取近2個月資料\n",
    "net_oi_df = net_oi_df[net_oi_df[\"Date\"] >= pd.Timestamp.now() - pd.DateOffset(months=2)]\n",
    "\n",
    "print(net_oi_df.shape)\n",
    "net_oi_df.tail(3)\n"
   ]
  },
  {
   "cell_type": "markdown",
   "metadata": {},
   "source": [
    "## 資料留存ＤＢ"
   ]
  },
  {
   "cell_type": "code",
   "execution_count": 33,
   "metadata": {},
   "outputs": [],
   "source": [
    "# 設定資料庫路徑\n",
    "TWSTOCK_DATA_ROOT = os.environ.get(\"hist_data_path\")\n",
    "twstock_db_path = f\"{TWSTOCK_DATA_ROOT}/twstock.duckdb\""
   ]
  },
  {
   "cell_type": "code",
   "execution_count": 34,
   "metadata": {},
   "outputs": [],
   "source": [
    "# 連線資料庫\n",
    "conn_duckdb = duckdb.connect(twstock_db_path)"
   ]
  },
  {
   "cell_type": "code",
   "execution_count": 35,
   "metadata": {},
   "outputs": [],
   "source": [
    "table_name = \"tw_futures_institutional_investors_trading_summary\""
   ]
  },
  {
   "cell_type": "code",
   "execution_count": null,
   "metadata": {},
   "outputs": [],
   "source": [
    "insert_row_count = insert_dataframe_to_duckdb(\n",
    "    conn_duckdb, \n",
    "    net_oi_df, \n",
    "    table_name, \n",
    "    date_column='Date',\n",
    "    if_exists='replace'\n",
    ")\n",
    "\n",
    "f\"成功插入 {insert_row_count} 筆資料到 {table_name}\""
   ]
  },
  {
   "cell_type": "code",
   "execution_count": null,
   "metadata": {},
   "outputs": [],
   "source": [
    "# 查詢表中所有資料\n",
    "conn_duckdb.execute(f\"SELECT * FROM {table_name} order by Date desc LIMIT 10\").fetch_df()"
   ]
  },
  {
   "cell_type": "code",
   "execution_count": 38,
   "metadata": {},
   "outputs": [],
   "source": [
    "# 關閉資料庫連線\n",
    "conn_duckdb.close()"
   ]
  },
  {
   "cell_type": "code",
   "execution_count": null,
   "metadata": {},
   "outputs": [],
   "source": []
  }
 ],
 "metadata": {
  "kernelspec": {
   "display_name": ".venv",
   "language": "python",
   "name": "python3"
  },
  "language_info": {
   "codemirror_mode": {
    "name": "ipython",
    "version": 3
   },
   "file_extension": ".py",
   "mimetype": "text/x-python",
   "name": "python",
   "nbconvert_exporter": "python",
   "pygments_lexer": "ipython3",
   "version": "3.12.11"
  }
 },
 "nbformat": 4,
 "nbformat_minor": 2
}
