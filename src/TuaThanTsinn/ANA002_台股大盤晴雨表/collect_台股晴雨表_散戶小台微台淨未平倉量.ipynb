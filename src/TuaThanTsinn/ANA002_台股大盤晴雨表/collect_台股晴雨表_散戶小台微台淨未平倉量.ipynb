{
 "cells": [
  {
   "cell_type": "markdown",
   "metadata": {},
   "source": [
    "# 散戶小台/微台淨未平倉抓取  \n",
    "* Open API 取得數據（限定當天） \n",
    "  https://openapi.taifex.com.tw/#/%E8%B3%87%E6%96%99%E6%9F%A5%E8%A9%A2API/get_MarketDataOfMajorInstitutionalTradersDetailsOfFuturesContractsBytheDate\n",
    "* 直接網頁查詢 [首頁 > 交易資訊 > 三大法人 > 查詢 > 區分各期貨契約 > 依日期](https://www.taifex.com.tw/cht/3/futContractsDate)\n",
    "* 多天資料下載 [交易資訊 > 三大法人 > 下載 > 區分各期貨契約 > 依日期](https://www.taifex.com.tw/cht/3/futContractsDateView)  \n",
    "* 把三大法人未平倉量相加即是"
   ]
  },
  {
   "cell_type": "code",
   "execution_count": 1,
   "metadata": {},
   "outputs": [],
   "source": [
    "import os\n",
    "import sys\n",
    "from pathlib import Path\n",
    "import pandas as pd\n",
    "import requests\n",
    "import duckdb"
   ]
  },
  {
   "cell_type": "code",
   "execution_count": 2,
   "metadata": {},
   "outputs": [],
   "source": [
    "from finlab import data\n",
    "import finlab"
   ]
  },
  {
   "cell_type": "code",
   "execution_count": null,
   "metadata": {},
   "outputs": [],
   "source": [
    "# 引用自建公用模組\n",
    "sys.path.insert(0, str(Path.cwd().parent))\n",
    "from proj_util_pkg.settings import ProjEnvSettings\n",
    "\n",
    "from proj_util_pkg.finlab_api import finlab_manager as flm\n",
    "from proj_util_pkg.common.duckdb_tool import insert_dataframe_to_duckdb"
   ]
  },
  {
   "cell_type": "markdown",
   "metadata": {},
   "source": [
    "## 公用參數設定"
   ]
  },
  {
   "cell_type": "code",
   "execution_count": null,
   "metadata": {},
   "outputs": [],
   "source": [
    "# finlab api 服務初始化\n",
    "finlab = flm.FinlabManager()\n",
    "data.force_cloud_download = False"
   ]
  },
  {
   "cell_type": "code",
   "execution_count": 5,
   "metadata": {},
   "outputs": [],
   "source": [
    "# 欄數全展開\n",
    "pd.set_option(\"display.max_columns\", None)"
   ]
  },
  {
   "cell_type": "code",
   "execution_count": 6,
   "metadata": {},
   "outputs": [],
   "source": [
    "# 新增偽裝成chrome瀏覽器的標頭\n",
    "headers = {\n",
    "    'User-Agent': 'Mozilla/5.0 (Windows NT 10.0; Win64; x64) AppleWebKit/537.36 (KHTML, like Gecko) Chrome/58.0.3029.110 Safari/537.3'\n",
    "}"
   ]
  },
  {
   "cell_type": "markdown",
   "metadata": {},
   "source": [
    "## 外部資料讀取  \n",
    "### 方法1: 透過期交所 open api  "
   ]
  },
  {
   "cell_type": "code",
   "execution_count": 7,
   "metadata": {},
   "outputs": [],
   "source": [
    "# 取得散戶小台淨未平倉口數資料\n",
    "major_futures_contracts_by_date = requests.get(\n",
    "    \"https://openapi.taifex.com.tw/v1/MarketDataOfMajorInstitutionalTradersDetailsOfFuturesContractsBytheDate\", \n",
    "    verify=False,\n",
    "    headers=headers\n",
    ").json()"
   ]
  },
  {
   "cell_type": "code",
   "execution_count": null,
   "metadata": {},
   "outputs": [],
   "source": [
    "# json 轉成 dataframe\n",
    "major_futures_contracts_by_date_df = pd.DataFrame(major_futures_contracts_by_date)\n",
    "print(major_futures_contracts_by_date_df.shape)\n",
    "\n",
    "# 篩選小型臺指期貨\n",
    "mjfut_df = major_futures_contracts_by_date_df[major_futures_contracts_by_date_df['ContractCode'] == '小型臺指期貨']\n",
    "mjfut_df = mjfut_df[[\"Date\", \"OpenInterest(Net)\"]]\n",
    "\n",
    "# 轉換OpenInterest(Net)為int, Date轉型date\n",
    "mjfut_df[\"OpenInterest(Net)\"] = mjfut_df[\"OpenInterest(Net)\"].astype(int)\n",
    "mjfut_df[\"Date\"] = pd.to_datetime(mjfut_df[\"Date\"])\n",
    "\n",
    "# mjfut_df group by date, sum OpenInterest(Net)\n",
    "mjfut_df_grouped = mjfut_df.groupby(\"Date\").agg({\"OpenInterest(Net)\": \"sum\"}).reset_index()\n",
    "mjfut_df_grouped"
   ]
  },
  {
   "cell_type": "code",
   "execution_count": 9,
   "metadata": {},
   "outputs": [],
   "source": [
    "# # 取得最後一筆交易日，作為方法2的查詢終止日條件\n",
    "# last_txn_date = mjfut_df_grouped.tail(1)[\"Date\"].values[0]\n",
    "# last_txn_date = pd.to_datetime(last_txn_date)\n",
    "\n",
    "# last_txn_date"
   ]
  },
  {
   "cell_type": "markdown",
   "metadata": {},
   "source": [
    "### 方法2: 透過爬蟲方式下載期交所網站檔案取得數據"
   ]
  },
  {
   "cell_type": "code",
   "execution_count": null,
   "metadata": {},
   "outputs": [],
   "source": [
    "# 讀取台股收盤價資訊\n",
    "close = data.get(\"price:收盤價\", save_to_storage=True)\n",
    "\n",
    "# 取得近一個交易日期\n",
    "last_txn_date = close.tail(1).index[0].date()\n",
    "print(f\"近一個交易日期: {last_txn_date}\")"
   ]
  },
  {
   "cell_type": "code",
   "execution_count": null,
   "metadata": {},
   "outputs": [],
   "source": [
    "# 共用參數設定\n",
    "FUTURES_DATA_FILENAME = 'futures_data.csv'  # 輸出檔案名稱\n",
    "FUTURES_DATA_FILENAME"
   ]
  },
  {
   "cell_type": "code",
   "execution_count": 11,
   "metadata": {},
   "outputs": [],
   "source": [
    "def get_futures_data_from_taifex(input_txn_date, commodity_id):\n",
    "    \"\"\" 取得期交所三大法人未平倉量資料 \"\"\"\n",
    "\n",
    "    # 設定目標URL\n",
    "    url = 'https://www.taifex.com.tw/cht/3/futContractsDateDown'\n",
    "\n",
    "    # 瀏覽器的 headers，模擬從瀏覽器發送的請求\n",
    "    headers = {\n",
    "        'User-Agent': 'Mozilla/5.0 (Windows NT 10.0; Win64; x64) AppleWebKit/537.36 (KHTML, like Gecko) Chrome/85.0.4183.121 Safari/537.36',\n",
    "        'Accept': 'text/html,application/xhtml+xml,application/xml;q=0.9,image/webp,*/*;q=0.8',\n",
    "        'Accept-Language': 'en-US,en;q=0.5',\n",
    "        'Accept-Encoding': 'gzip, deflate, br',\n",
    "        'Connection': 'keep-alive',\n",
    "        'Upgrade-Insecure-Requests': '1',\n",
    "        'Referer': 'https://www.taifex.com.tw/cht/3/futContractsDate',\n",
    "        'Origin': 'https://www.taifex.com.tw'\n",
    "    }\n",
    "\n",
    "    # 設定POST的表單資料\n",
    "    # 手動指定日期區間範例\n",
    "    # form_data = {\n",
    "    #     'firstDate': '2021/09/20 00:00',\n",
    "    #     'lastDate': '2024/09/20 00:00',\n",
    "    #     'queryStartDate': '2024/09/01',\n",
    "    #     'queryEndDate': '2024/09/20',\n",
    "    #     'commodityId': 'MXF'\n",
    "    # }\n",
    "\n",
    "    input_month_1st = input_txn_date.replace(day=1).strftime(\"%Y/%m/%d\")\n",
    "    input_txndate_prev_3y = input_txn_date - pd.DateOffset(years=3)\n",
    "    input_txndate_prev_3y = input_txndate_prev_3y.strftime(\"%Y/%m/%d\")\n",
    "    form_data = {\n",
    "        'firstDate': f'{input_txndate_prev_3y} 00:00',\n",
    "        'lastDate': f'{input_txn_date.strftime(\"%Y/%m/%d\")} 00:00',\n",
    "        'queryStartDate': input_month_1st,\n",
    "        'queryEndDate': input_txn_date.strftime(\"%Y/%m/%d\"),\n",
    "        'commodityId': commodity_id\n",
    "    }\n",
    "    print(form_data)\n",
    "\n",
    "    # 發送POST請求，帶入 headers 和表單資料\n",
    "    response = requests.post(url, data=form_data, headers=headers)\n",
    "\n",
    "    # # 輸出檔案名稱\n",
    "    # filename = 'futures_data.csv'\n",
    "\n",
    "    # 確認請求是否成功\n",
    "    if response.status_code == 200:\n",
    "        # 將CSV檔案儲存到本地\n",
    "        with open(FUTURES_DATA_FILENAME, 'wb') as file:\n",
    "            file.write(response.content)\n",
    "        print(f'CSV檔案已成功下載並儲存為{FUTURES_DATA_FILENAME}')\n",
    "    else:\n",
    "        print(f'下載失敗，狀態碼: {response.status_code}')\n"
   ]
  },
  {
   "cell_type": "code",
   "execution_count": 12,
   "metadata": {},
   "outputs": [],
   "source": [
    "def _read_futures_data_from_taifex(commodity_name):\n",
    "    \"\"\" 讀取期交所三大法人未平倉量資料，並回傳group by後的df \"\"\"\n",
    "\n",
    "    # 讀取 CSV 檔案\n",
    "    major_futures_contracts_by_date_df = pd.read_csv(FUTURES_DATA_FILENAME, encoding='big5')\n",
    "    \n",
    "    # 篩選臺指期貨\n",
    "    mjfut_df = major_futures_contracts_by_date_df[[\"日期\", \"多空未平倉口數淨額\"]]\n",
    "\n",
    "    # 轉換'多空未平倉口數淨額'為int, '日期'轉型date\n",
    "    mjfut_df.loc[:, \"多空未平倉口數淨額\"] = mjfut_df[\"多空未平倉口數淨額\"].astype(int)\n",
    "    mjfut_df.loc[:,\"日期\"] = pd.to_datetime(mjfut_df[\"日期\"])\n",
    "    mjfut_df.columns = [\"Date\", commodity_name]\n",
    "    \n",
    "    # mjfut_df group by date, sum OpenInterest(Net)\n",
    "    mjfut_df_grouped = mjfut_df.groupby(\"Date\").agg({commodity_name: \"sum\"}).reset_index()\n",
    "\n",
    "    # 將commodity_name列的值乘以-1 (散戶視為反指標，作多代表空)\n",
    "    mjfut_df_grouped[commodity_name] = mjfut_df_grouped[commodity_name] * -1\n",
    "    \n",
    "    return mjfut_df_grouped\n"
   ]
  },
  {
   "cell_type": "code",
   "execution_count": null,
   "metadata": {},
   "outputs": [],
   "source": [
    "# 設定淨未平倉量抓取目標資訊，以dict格式設定\n",
    "tw_futures_target_dict = {\n",
    "    \"MXF\": \"散戶小台淨未平倉口數\",\n",
    "    \"TMF\": \"散戶微台淨未平倉口數\"\n",
    "}\n",
    "\n",
    "futures_data_df = pd.DataFrame()\n",
    "# 跑迴圈，依據tw_futures_target_dict.items()的key, value，分別執行get_futures_data_from_taifex\n",
    "for commodity_id, commodity_name in tw_futures_target_dict.items():\n",
    "    get_futures_data_from_taifex(last_txn_date, commodity_id)\n",
    "    mjfut_df_grouped = _read_futures_data_from_taifex(commodity_name)\n",
    "    \n",
    "    # 合併數據到futures_data_df\n",
    "    if futures_data_df.empty:\n",
    "        futures_data_df = mjfut_df_grouped\n",
    "    else:\n",
    "        futures_data_df = pd.merge(futures_data_df, mjfut_df_grouped, on='Date', how='outer')\n",
    "    \n",
    "    # 刪除 CSV 檔案\n",
    "    os.remove(FUTURES_DATA_FILENAME)\n",
    "\n",
    "print(futures_data_df)"
   ]
  },
  {
   "cell_type": "markdown",
   "metadata": {},
   "source": [
    "## 資料留存ＤＢ"
   ]
  },
  {
   "cell_type": "code",
   "execution_count": 14,
   "metadata": {},
   "outputs": [],
   "source": [
    "# 設定資料庫路徑\n",
    "TWSTOCK_DATA_ROOT = os.environ.get(\"hist_data_path\")\n",
    "twstock_db_path = f\"{TWSTOCK_DATA_ROOT}/twstock.duckdb\""
   ]
  },
  {
   "cell_type": "code",
   "execution_count": 15,
   "metadata": {},
   "outputs": [],
   "source": [
    "# 連線資料庫\n",
    "conn_duckdb = duckdb.connect(twstock_db_path)"
   ]
  },
  {
   "cell_type": "code",
   "execution_count": 16,
   "metadata": {},
   "outputs": [],
   "source": [
    "table_name = \"tw_retail_investors_net_open_interest\""
   ]
  },
  {
   "cell_type": "code",
   "execution_count": null,
   "metadata": {},
   "outputs": [],
   "source": [
    "insert_row_count = insert_dataframe_to_duckdb(\n",
    "    conn_duckdb, \n",
    "    futures_data_df, \n",
    "    table_name, \n",
    "    date_column='Date',\n",
    "    if_exists='replace'\n",
    ")\n",
    "\n",
    "f\"成功插入 {insert_row_count} 筆資料到 {table_name}\""
   ]
  },
  {
   "cell_type": "code",
   "execution_count": null,
   "metadata": {},
   "outputs": [],
   "source": [
    "# 查詢表中所有資料\n",
    "conn_duckdb.execute(f\"SELECT * FROM {table_name} order by Date desc LIMIT 10\").fetch_df()"
   ]
  },
  {
   "cell_type": "code",
   "execution_count": 19,
   "metadata": {},
   "outputs": [],
   "source": [
    "# 關閉資料庫連線\n",
    "conn_duckdb.close()"
   ]
  },
  {
   "cell_type": "code",
   "execution_count": null,
   "metadata": {},
   "outputs": [],
   "source": []
  }
 ],
 "metadata": {
  "kernelspec": {
   "display_name": ".venv",
   "language": "python",
   "name": "python3"
  },
  "language_info": {
   "codemirror_mode": {
    "name": "ipython",
    "version": 3
   },
   "file_extension": ".py",
   "mimetype": "text/x-python",
   "name": "python",
   "nbconvert_exporter": "python",
   "pygments_lexer": "ipython3",
   "version": "3.12.11"
  }
 },
 "nbformat": 4,
 "nbformat_minor": 2
}
