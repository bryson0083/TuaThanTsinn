{
 "cells": [
  {
   "cell_type": "markdown",
   "metadata": {},
   "source": [
    "# 自營商選擇權  \n",
    "* 方法1: 透過openapi取得資訊  \n",
    "> [三大法人-選擇權買賣權分計-依日期](https://www.taifex.com.tw/cht/3/callsAndPutsDateView)  \n",
    "* 方法2: 透過期交所網站下載資料進行更新  \n",
    "> 首頁 > 交易資訊 > 三大法人 > 下載 > 選擇權買賣權分計 > 依日期  \n",
    "> [選擇權買賣權分計_依日期下載](https://www.taifex.com.tw/cht/3/callsAndPutsDateDown)\n"
   ]
  },
  {
   "cell_type": "code",
   "execution_count": 1,
   "metadata": {},
   "outputs": [],
   "source": [
    "import os\n",
    "import sys\n",
    "from pathlib import Path\n",
    "from datetime import date\n",
    "from datetime import datetime\n",
    "import requests\n",
    "import pandas as pd\n",
    "import duckdb"
   ]
  },
  {
   "cell_type": "code",
   "execution_count": 2,
   "metadata": {},
   "outputs": [],
   "source": [
    "from finlab import data\n",
    "import finlab"
   ]
  },
  {
   "cell_type": "code",
   "execution_count": null,
   "metadata": {},
   "outputs": [],
   "source": [
    "# 引用自建公用模組\n",
    "sys.path.insert(0, str(Path.cwd().parent))\n",
    "from proj_util_pkg.settings import ProjEnvSettings\n",
    "\n",
    "from proj_util_pkg.finlab_api import finlab_manager as flm\n",
    "from proj_util_pkg.common.duckdb_tool import insert_dataframe_to_duckdb"
   ]
  },
  {
   "cell_type": "markdown",
   "metadata": {},
   "source": [
    "## 公用參數設定"
   ]
  },
  {
   "cell_type": "code",
   "execution_count": null,
   "metadata": {},
   "outputs": [],
   "source": [
    "# finlab api 服務初始化\n",
    "finlab = flm.FinlabManager()\n",
    "data.force_cloud_download = False"
   ]
  },
  {
   "cell_type": "code",
   "execution_count": 5,
   "metadata": {},
   "outputs": [],
   "source": [
    "# 欄數全展開\n",
    "pd.set_option(\"display.max_columns\", None)"
   ]
  },
  {
   "cell_type": "code",
   "execution_count": 6,
   "metadata": {},
   "outputs": [],
   "source": [
    "# 新增偽裝成chrome瀏覽器的標頭\n",
    "headers = {\n",
    "    'User-Agent': 'Mozilla/5.0 (Windows NT 10.0; Win64; x64) AppleWebKit/537.36 (KHTML, like Gecko) Chrome/58.0.3029.110 Safari/537.3'\n",
    "}"
   ]
  },
  {
   "cell_type": "markdown",
   "metadata": {},
   "source": [
    "## 外部資料讀取  \n",
    "### 方法1: 透過期交所 open api 取得最近一個交易日數據  \n",
    "* API只能取得Ｄ-1資訊"
   ]
  },
  {
   "cell_type": "code",
   "execution_count": null,
   "metadata": {},
   "outputs": [],
   "source": [
    "# 取得三大法人-選擇權買賣權分計-依日期\n",
    "mj_institutional_trader = requests.get(\n",
    "    \"https://openapi.taifex.com.tw/v1/MarketDataOfMajorInstitutionalTradersDetailsOfCallsAndPutsBytheDate\", \n",
    "    verify=False,\n",
    "    headers=headers\n",
    ").json()\n",
    "print(mj_institutional_trader)"
   ]
  },
  {
   "cell_type": "code",
   "execution_count": null,
   "metadata": {},
   "outputs": [],
   "source": [
    "# json 轉成 dataframe\n",
    "mj_institutional_trader_df = pd.DataFrame(mj_institutional_trader)\n",
    "print(mj_institutional_trader_df.shape)\n",
    "# mj_institutional_trader_df"
   ]
  },
  {
   "cell_type": "code",
   "execution_count": null,
   "metadata": {},
   "outputs": [],
   "source": [
    "# 取得最後一筆交易日，作為方法2的查詢終止日條件\n",
    "last_txn_date = mj_institutional_trader_df.tail(1)[\"Date\"].values[0]\n",
    "last_txn_date = pd.to_datetime(last_txn_date)\n",
    "\n",
    "last_txn_date"
   ]
  },
  {
   "cell_type": "markdown",
   "metadata": {},
   "source": [
    "### 方法2: 透過期交所網站下載資料進行更新  "
   ]
  },
  {
   "cell_type": "code",
   "execution_count": 10,
   "metadata": {},
   "outputs": [],
   "source": [
    "# # 讀取台股收盤價資訊\n",
    "# close = data.get(\"price:收盤價\", save_to_storage=True)\n",
    "\n",
    "# # 取得近一個交易日期ａｃ\n",
    "# last_txn_date = close.tail(1).index[0].date()\n",
    "# print(f\"近一個交易日期: {last_txn_date}\")"
   ]
  },
  {
   "cell_type": "code",
   "execution_count": null,
   "metadata": {},
   "outputs": [],
   "source": [
    "# 日期參數設定\n",
    "query_first_date = (last_txn_date - pd.DateOffset(years=3)).strftime(\"%Y/%m/%d %H:%M\")\n",
    "query_last_date = last_txn_date.strftime(\"%Y/%m/%d %H:%M\")\n",
    "print(f\"{query_first_date} ~ {query_last_date}\")\n",
    "\n",
    "# input_date = \"2024/08/05\"  # 保留作為手動指定日期\n",
    "input_date = query_last_date  # 預設指定最近一個交易日期\n",
    "\n",
    "end_date = pd.to_datetime(input_date)\n",
    "last_month = (end_date - pd.DateOffset(days=30)).strftime(\"%Y/%m/%d\")\n",
    "\n",
    "f\"{last_month} ~ {input_date}\""
   ]
  },
  {
   "cell_type": "code",
   "execution_count": null,
   "metadata": {},
   "outputs": [],
   "source": [
    "# 設置請求的URL\n",
    "url = \"https://www.taifex.com.tw/cht/3/callsAndPutsDateDown\"\n",
    "\n",
    "# 設置請求的payload\n",
    "# payload = {\n",
    "#     \"firstDate\": \"2021/10/04 00:00\",\n",
    "#     \"lastDate\": \"2024/10/04 00:00\",\n",
    "#     \"queryStartDate\": \"2024/10/04\",\n",
    "#     \"queryEndDate\": \"2024/10/04\",\n",
    "#     \"commodityId\": \"TXO\"\n",
    "# }\n",
    "payload = {\n",
    "    \"firstDate\": query_first_date,\n",
    "    \"lastDate\": query_last_date,\n",
    "    \"queryStartDate\": last_month,\n",
    "    \"queryEndDate\": input_date,\n",
    "    \"commodityId\": \"TXO\"\n",
    "}\n",
    "print(payload)\n",
    "\n",
    "# 發送POST請求\n",
    "response = requests.post(url, headers=headers, data=payload, verify=False)\n",
    "\n",
    "# 檢查請求是否成功\n",
    "if response.status_code == 200:\n",
    "    # 將回應內容保存為CSV文件\n",
    "    with open(\"mj_institutional_trader.csv\", \"wb\") as file:\n",
    "        file.write(response.content)\n",
    "    print(\"CSV文件已成功下載並保存為mj_institutional_trader.csv\")\n",
    "\n",
    "    df = pd.read_csv('mj_institutional_trader.csv', encoding='big5')\n",
    "    df.loc[:,\"日期\"] = pd.to_datetime(df[\"日期\"])\n",
    "    # print(df)\n",
    "\n",
    "    os.remove(\"mj_institutional_trader.csv\")\n",
    "else:\n",
    "    print(f\"請求失敗，狀態碼：{response.status_code}\")"
   ]
  },
  {
   "cell_type": "code",
   "execution_count": null,
   "metadata": {},
   "outputs": [],
   "source": [
    "# 篩選臺指選擇權的自營商資訊\n",
    "mj_institutional_trader_df = df.copy()\n",
    "\n",
    "mj_institutional_trader_df = mj_institutional_trader_df[\n",
    "    (mj_institutional_trader_df[\"商品名稱\"] == \"臺指選擇權\") & \n",
    "    (mj_institutional_trader_df[\"身份別\"] == \"自營商\")\n",
    "]\n",
    "mj_institutional_trader_df = mj_institutional_trader_df[[\"日期\", \"買賣權別\", \"未平倉口數買賣淨額\"]]\n",
    "mj_institutional_trader_df\n",
    "\n",
    "# 依日期合併未平倉口數買賣淨額, 用買賣權別CALL減掉PUT的未平倉口數買賣淨額值\n",
    "# 將資料轉換為寬格式，分別顯示CALL和PUT的未平倉口數買賣淨額\n",
    "mj_institutional_trader_wide = mj_institutional_trader_df.pivot(index=\"日期\", columns=\"買賣權別\", values=\"未平倉口數買賣淨額\").reset_index()\n",
    "\n",
    "# 重命名列\n",
    "mj_institutional_trader_wide.columns.name = None\n",
    "mj_institutional_trader_wide = mj_institutional_trader_wide.rename(columns={\"CALL\": \"CALL未平倉\", \"PUT\": \"PUT未平倉\"})\n",
    "\n",
    "# 計算CALL減去PUT的淨值\n",
    "mj_institutional_trader_wide[\"淨未平倉\"] = mj_institutional_trader_wide[\"CALL未平倉\"] - mj_institutional_trader_wide[\"PUT未平倉\"]\n",
    "\n",
    "# 只保留日期和淨未平倉列\n",
    "mj_institutional_trader_df = mj_institutional_trader_wide[[\"日期\", \"淨未平倉\"]]\n",
    "\n",
    "# 重命名列為英文，以符合後續使用\n",
    "mj_institutional_trader_df.columns = [\"Date\", \"net_oi\"]\n",
    "\n",
    "# 顯示結果\n",
    "print(\"自營商臺指選擇權未平倉口數買賣淨額（CALL - PUT）：\")\n",
    "print(mj_institutional_trader_df)"
   ]
  },
  {
   "cell_type": "markdown",
   "metadata": {},
   "source": [
    "## 資料留存ＤＢ"
   ]
  },
  {
   "cell_type": "code",
   "execution_count": 14,
   "metadata": {},
   "outputs": [],
   "source": [
    "# 設定資料庫路徑\n",
    "TWSTOCK_DATA_ROOT = os.environ.get(\"hist_data_path\")\n",
    "twstock_db_path = f\"{TWSTOCK_DATA_ROOT}/twstock.duckdb\""
   ]
  },
  {
   "cell_type": "code",
   "execution_count": 15,
   "metadata": {},
   "outputs": [],
   "source": [
    "# 連線資料庫\n",
    "conn_duckdb = duckdb.connect(twstock_db_path)"
   ]
  },
  {
   "cell_type": "code",
   "execution_count": 16,
   "metadata": {},
   "outputs": [],
   "source": [
    "table_name = \"tw_option_proprietary_traders_oi\""
   ]
  },
  {
   "cell_type": "code",
   "execution_count": null,
   "metadata": {},
   "outputs": [],
   "source": [
    "insert_row_count = insert_dataframe_to_duckdb(\n",
    "    conn_duckdb, \n",
    "    mj_institutional_trader_df, \n",
    "    table_name, \n",
    "    date_column='Date'\n",
    ")\n",
    "\n",
    "f\"成功插入 {insert_row_count} 筆資料到 {table_name}\""
   ]
  },
  {
   "cell_type": "code",
   "execution_count": null,
   "metadata": {},
   "outputs": [],
   "source": [
    "# 查詢表中所有資料\n",
    "conn_duckdb.execute(f\"SELECT * FROM {table_name} order by Date desc LIMIT 10\").fetch_df()"
   ]
  },
  {
   "cell_type": "code",
   "execution_count": 19,
   "metadata": {},
   "outputs": [],
   "source": [
    "# 關閉資料庫連線\n",
    "conn_duckdb.close()"
   ]
  },
  {
   "cell_type": "code",
   "execution_count": null,
   "metadata": {},
   "outputs": [],
   "source": []
  }
 ],
 "metadata": {
  "kernelspec": {
   "display_name": ".venv",
   "language": "python",
   "name": "python3"
  },
  "language_info": {
   "codemirror_mode": {
    "name": "ipython",
    "version": 3
   },
   "file_extension": ".py",
   "mimetype": "text/x-python",
   "name": "python",
   "nbconvert_exporter": "python",
   "pygments_lexer": "ipython3",
   "version": "3.12.11"
  }
 },
 "nbformat": 4,
 "nbformat_minor": 2
}
